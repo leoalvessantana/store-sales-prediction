{
 "cells": [
  {
   "cell_type": "markdown",
   "id": "243dc18c",
   "metadata": {},
   "source": [
    "# 0.0 IMPORTS"
   ]
  },
  {
   "cell_type": "code",
   "execution_count": 1,
   "id": "656ba4cb",
   "metadata": {
    "scrolled": true
   },
   "outputs": [],
   "source": [
    "# Bibliotecas\n",
    "\n",
    "import math\n",
    "import numpy as np\n",
    "import pickle\n",
    "import random\n",
    "import pandas as pd\n",
    "import seaborn as sns\n",
    "\n",
    "import inflection\n",
    "import datetime\n",
    "import json\n",
    "import requests\n",
    "import os\n",
    "\n",
    "from matplotlib import pyplot as plt\n",
    "from scipy import stats as ss\n",
    "from boruta import BorutaPy\n",
    "from IPython.core.display import HTML\n",
    "from IPython.display import Image\n",
    "from tabulate import tabulate\n",
    "\n",
    "from sklearn.metrics import mean_absolute_error, mean_squared_error\n",
    "from sklearn.ensemble import RandomForestRegressor\n",
    "from sklearn.linear_model import LinearRegression, Lasso\n",
    "from sklearn.preprocessing import RobustScaler, MinMaxScaler, LabelEncoder\n",
    "import xgboost as xgb"
   ]
  },
  {
   "cell_type": "markdown",
   "id": "559856bf",
   "metadata": {},
   "source": [
    "## 0.1. Helper Functions"
   ]
  },
  {
   "cell_type": "markdown",
   "id": "98134f64",
   "metadata": {},
   "source": [
    "Funções utilizadas"
   ]
  },
  {
   "cell_type": "code",
   "execution_count": 2,
   "id": "de973074",
   "metadata": {},
   "outputs": [],
   "source": [
    "def cross_validation( x_training, kfold, model_name, model, verbose=False ):\n",
    "    '''\n",
    "    Essa função é uma implementação da tecnica de cross-validation, que será utilizada para calcular a performace de cada modelo de machile learning, \n",
    "    o número de interações é dado pelo kfold\n",
    "    Ao final vamos ter:      Perfomace real do modelo = mean(erro1, erro2 ...) +/- STD(erro1, erro2 ...)\n",
    "    '''\n",
    "    mae_list = []\n",
    "    mape_list = []\n",
    "    rmse_list = []\n",
    "    \n",
    "    for k in reversed( range( 1, kfold+1 ) ):\n",
    "        if verbose:\n",
    "            print( '\\nKFold Number: {}'.format( k ) )\n",
    "\n",
    "        # start and end date for validation\n",
    "        validation_start_date = x_training['date'].max() - datetime.timedelta(days=k*6*7)\n",
    "        validation_end_date = x_training['date'].max() - datetime.timedelta(days=(k-1)*6*7)\n",
    "\n",
    "        # filtering dataset\n",
    "        training = x_training[x_training['date'] < validation_start_date]\n",
    "        validation = x_training[(x_training['date'] >= validation_start_date) & (x_training['date'] <= validation_end_date)]\n",
    "        \n",
    "        # training and validation dataset\n",
    "        # training\n",
    "        xtraining = training.drop( ['date', 'sales'], axis=1 )\n",
    "        ytraining = training['sales']\n",
    "        # validation\n",
    "        xvalidation = validation.drop( ['date', 'sales'], axis=1 )\n",
    "        yvalidation = validation['sales']\n",
    "\n",
    "        # model\n",
    "        m = model.fit( xtraining, ytraining )\n",
    "\n",
    "        # prediction\n",
    "        yhat = m.predict( xvalidation )\n",
    "\n",
    "        # performance\n",
    "        m_result = ml_error( model_name, np.expm1( yvalidation ), np.expm1( yhat ) )\n",
    "\n",
    "        # store performance of each kfold iteration\n",
    "        mae_list.append( m_result['MAE'] )\n",
    "        mape_list.append( m_result['MAPE'] )\n",
    "        rmse_list.append( m_result['RMSE'] )\n",
    "        \n",
    "    return pd.DataFrame( {'Model Name': model_name,\n",
    "                              'MAE CV': np.round( np.mean( mae_list ), 2 ).astype( str ) + ' +/- ' + np.round( np.std( mae_list ), 2 ).astype( str ),\n",
    "                              'MAPE CV': np.round( np.mean( mape_list ), 2 ).astype( str ) + ' +/- ' + np.round( np.std( mape_list ), 2 ).astype( str ),\n",
    "                              'RMSE CV': np.round( np.mean( rmse_list ), 2 ).astype( str ) + ' +/- ' + np.round( np.std( rmse_list ), 2 ).astype( str )}, index=[0] )\n",
    "\n",
    "\n",
    "\n",
    "def mean_percentage_error( y, yhat ):\n",
    "    return np.mean( ( y - yhat ) / y )\n",
    "\n",
    "\n",
    "\n",
    "def cramer_v( x, y ):\n",
    "    \"\"\"Essa função calcula correlação entre duas variaveis categoricas. Para isso útilizamos a medida Cramér's V.\n",
    "    Imput: x e y são as variaveis categoricas\n",
    "    output: Cramér's V\n",
    "    variaveis:\n",
    "        cm: é a matriz de confução\n",
    "        n: soma de todos os valores\n",
    "        r, k: é o numero de linhas e numero de colunas\n",
    "        chi2: é o resultado do teste\n",
    "        chi2corr, kcorr e rcorr: é uma correção da formula\n",
    "    \"\"\"\n",
    "    cm = pd.crosstab( x, y ).values\n",
    "    n = cm.sum()\n",
    "    r, k = cm.shape \n",
    "    \n",
    "    chi2 = ss.chi2_contingency( cm )[0]   \n",
    "    \n",
    "    chi2corr = max( 0, chi2 - (k-1)*(r-1)/(n-1) )\n",
    "    \n",
    "    kcorr = k - (k-1)**2/(n-1)\n",
    "    rcorr = r - (r-1)**2/(n-1)\n",
    "        \n",
    "    return np.sqrt( (chi2corr/n) / ( min( kcorr-1, rcorr-1 ) ) )\n",
    "\n",
    "\n",
    "\n",
    "def mean_absolute_percentage_error( y, yhat ):\n",
    "    '''\n",
    "    imput: y são os valores reais e yhat são os valores preditos\n",
    "    output: o erro relativo ao valor real\n",
    "    '''\n",
    "    return np.mean( np.abs( ( y - yhat ) / y ) )\n",
    "\n",
    "\n",
    "def ml_error( model_name, y, yhat ):\n",
    "    '''\n",
    "    imput: model_name é nome do modelo, y são os valores reais e yhat são os valores preditos\n",
    "    output: dataframe com o nome do modelo e os erros \n",
    "    '''\n",
    "    mae = mean_absolute_error( y, yhat )    # Mean absolute error regression loss.\n",
    "    mape = mean_absolute_percentage_error( y, yhat )\n",
    "    rmse = np.sqrt( mean_squared_error( y, yhat ) )    # sqrt ( Mean squared error regression loss. )\n",
    "    return pd.DataFrame( { 'Model Name': model_name,\n",
    "                            'MAE': mae,\n",
    "                            'MAPE': mape,\n",
    "                            'RMSE': rmse }, index=[0] )\n"
   ]
  },
  {
   "cell_type": "markdown",
   "id": "00b89ff0",
   "metadata": {},
   "source": [
    "## 0.2 Loading data"
   ]
  },
  {
   "cell_type": "code",
   "execution_count": 3,
   "id": "ac0ae875",
   "metadata": {},
   "outputs": [],
   "source": [
    "BASE_DIR = os.path.abspath('')   \n",
    "DATA_DIR = os.path.join(BASE_DIR,'dados')\n",
    "PARA_DIR = os.path.join(BASE_DIR,'parameter')\n",
    "\n",
    "df_sales_raw = pd.read_csv(os.path.join(DATA_DIR,'train.csv'), low_memory = False)\n",
    "df_store_raw = pd.read_csv(os.path.join(DATA_DIR,'store.csv'), low_memory = False)\n",
    "df_raw = pd.merge(df_sales_raw, df_store_raw, how='left', on='Store')"
   ]
  },
  {
   "cell_type": "code",
   "execution_count": 4,
   "id": "ea834207",
   "metadata": {},
   "outputs": [
    {
     "data": {
      "text/html": [
       "<div>\n",
       "<style scoped>\n",
       "    .dataframe tbody tr th:only-of-type {\n",
       "        vertical-align: middle;\n",
       "    }\n",
       "\n",
       "    .dataframe tbody tr th {\n",
       "        vertical-align: top;\n",
       "    }\n",
       "\n",
       "    .dataframe thead th {\n",
       "        text-align: right;\n",
       "    }\n",
       "</style>\n",
       "<table border=\"1\" class=\"dataframe\">\n",
       "  <thead>\n",
       "    <tr style=\"text-align: right;\">\n",
       "      <th></th>\n",
       "      <th>Store</th>\n",
       "      <th>DayOfWeek</th>\n",
       "      <th>Date</th>\n",
       "      <th>Sales</th>\n",
       "      <th>Customers</th>\n",
       "      <th>Open</th>\n",
       "      <th>Promo</th>\n",
       "      <th>StateHoliday</th>\n",
       "      <th>SchoolHoliday</th>\n",
       "      <th>StoreType</th>\n",
       "      <th>Assortment</th>\n",
       "      <th>CompetitionDistance</th>\n",
       "      <th>CompetitionOpenSinceMonth</th>\n",
       "      <th>CompetitionOpenSinceYear</th>\n",
       "      <th>Promo2</th>\n",
       "      <th>Promo2SinceWeek</th>\n",
       "      <th>Promo2SinceYear</th>\n",
       "      <th>PromoInterval</th>\n",
       "    </tr>\n",
       "  </thead>\n",
       "  <tbody>\n",
       "    <tr>\n",
       "      <th>0</th>\n",
       "      <td>1</td>\n",
       "      <td>5</td>\n",
       "      <td>2015-07-31</td>\n",
       "      <td>5263</td>\n",
       "      <td>555</td>\n",
       "      <td>1</td>\n",
       "      <td>1</td>\n",
       "      <td>0</td>\n",
       "      <td>1</td>\n",
       "      <td>c</td>\n",
       "      <td>a</td>\n",
       "      <td>1270.0</td>\n",
       "      <td>9.0</td>\n",
       "      <td>2008.0</td>\n",
       "      <td>0</td>\n",
       "      <td>NaN</td>\n",
       "      <td>NaN</td>\n",
       "      <td>NaN</td>\n",
       "    </tr>\n",
       "    <tr>\n",
       "      <th>1</th>\n",
       "      <td>2</td>\n",
       "      <td>5</td>\n",
       "      <td>2015-07-31</td>\n",
       "      <td>6064</td>\n",
       "      <td>625</td>\n",
       "      <td>1</td>\n",
       "      <td>1</td>\n",
       "      <td>0</td>\n",
       "      <td>1</td>\n",
       "      <td>a</td>\n",
       "      <td>a</td>\n",
       "      <td>570.0</td>\n",
       "      <td>11.0</td>\n",
       "      <td>2007.0</td>\n",
       "      <td>1</td>\n",
       "      <td>13.0</td>\n",
       "      <td>2010.0</td>\n",
       "      <td>Jan,Apr,Jul,Oct</td>\n",
       "    </tr>\n",
       "    <tr>\n",
       "      <th>2</th>\n",
       "      <td>3</td>\n",
       "      <td>5</td>\n",
       "      <td>2015-07-31</td>\n",
       "      <td>8314</td>\n",
       "      <td>821</td>\n",
       "      <td>1</td>\n",
       "      <td>1</td>\n",
       "      <td>0</td>\n",
       "      <td>1</td>\n",
       "      <td>a</td>\n",
       "      <td>a</td>\n",
       "      <td>14130.0</td>\n",
       "      <td>12.0</td>\n",
       "      <td>2006.0</td>\n",
       "      <td>1</td>\n",
       "      <td>14.0</td>\n",
       "      <td>2011.0</td>\n",
       "      <td>Jan,Apr,Jul,Oct</td>\n",
       "    </tr>\n",
       "    <tr>\n",
       "      <th>3</th>\n",
       "      <td>4</td>\n",
       "      <td>5</td>\n",
       "      <td>2015-07-31</td>\n",
       "      <td>13995</td>\n",
       "      <td>1498</td>\n",
       "      <td>1</td>\n",
       "      <td>1</td>\n",
       "      <td>0</td>\n",
       "      <td>1</td>\n",
       "      <td>c</td>\n",
       "      <td>c</td>\n",
       "      <td>620.0</td>\n",
       "      <td>9.0</td>\n",
       "      <td>2009.0</td>\n",
       "      <td>0</td>\n",
       "      <td>NaN</td>\n",
       "      <td>NaN</td>\n",
       "      <td>NaN</td>\n",
       "    </tr>\n",
       "    <tr>\n",
       "      <th>4</th>\n",
       "      <td>5</td>\n",
       "      <td>5</td>\n",
       "      <td>2015-07-31</td>\n",
       "      <td>4822</td>\n",
       "      <td>559</td>\n",
       "      <td>1</td>\n",
       "      <td>1</td>\n",
       "      <td>0</td>\n",
       "      <td>1</td>\n",
       "      <td>a</td>\n",
       "      <td>a</td>\n",
       "      <td>29910.0</td>\n",
       "      <td>4.0</td>\n",
       "      <td>2015.0</td>\n",
       "      <td>0</td>\n",
       "      <td>NaN</td>\n",
       "      <td>NaN</td>\n",
       "      <td>NaN</td>\n",
       "    </tr>\n",
       "  </tbody>\n",
       "</table>\n",
       "</div>"
      ],
      "text/plain": [
       "   Store  DayOfWeek        Date  Sales  Customers  Open  Promo StateHoliday  \\\n",
       "0      1          5  2015-07-31   5263        555     1      1            0   \n",
       "1      2          5  2015-07-31   6064        625     1      1            0   \n",
       "2      3          5  2015-07-31   8314        821     1      1            0   \n",
       "3      4          5  2015-07-31  13995       1498     1      1            0   \n",
       "4      5          5  2015-07-31   4822        559     1      1            0   \n",
       "\n",
       "   SchoolHoliday StoreType Assortment  CompetitionDistance  \\\n",
       "0              1         c          a               1270.0   \n",
       "1              1         a          a                570.0   \n",
       "2              1         a          a              14130.0   \n",
       "3              1         c          c                620.0   \n",
       "4              1         a          a              29910.0   \n",
       "\n",
       "   CompetitionOpenSinceMonth  CompetitionOpenSinceYear  Promo2  \\\n",
       "0                        9.0                    2008.0       0   \n",
       "1                       11.0                    2007.0       1   \n",
       "2                       12.0                    2006.0       1   \n",
       "3                        9.0                    2009.0       0   \n",
       "4                        4.0                    2015.0       0   \n",
       "\n",
       "   Promo2SinceWeek  Promo2SinceYear    PromoInterval  \n",
       "0              NaN              NaN              NaN  \n",
       "1             13.0           2010.0  Jan,Apr,Jul,Oct  \n",
       "2             14.0           2011.0  Jan,Apr,Jul,Oct  \n",
       "3              NaN              NaN              NaN  \n",
       "4              NaN              NaN              NaN  "
      ]
     },
     "execution_count": 4,
     "metadata": {},
     "output_type": "execute_result"
    }
   ],
   "source": [
    "df_raw.head()"
   ]
  },
  {
   "cell_type": "markdown",
   "id": "2434a6b3",
   "metadata": {},
   "source": [
    "# 1.0 DATA DESCRIPTION\n",
    "\n"
   ]
  },
  {
   "cell_type": "markdown",
   "id": "042cc7b5",
   "metadata": {},
   "source": [
    "Nessa etapa vamos entender como os dados estão e qual o tamanho do problema que estamos enfrentando."
   ]
  },
  {
   "cell_type": "code",
   "execution_count": 5,
   "id": "fcb97b62",
   "metadata": {},
   "outputs": [],
   "source": [
    "df1 = df_raw.copy() "
   ]
  },
  {
   "cell_type": "markdown",
   "id": "85ce44b8",
   "metadata": {},
   "source": [
    "## 1.1 Rename Columns "
   ]
  },
  {
   "cell_type": "code",
   "execution_count": 6,
   "id": "1638f093",
   "metadata": {},
   "outputs": [
    {
     "data": {
      "text/plain": [
       "Index(['Store', 'DayOfWeek', 'Date', 'Sales', 'Customers', 'Open', 'Promo',\n",
       "       'StateHoliday', 'SchoolHoliday', 'StoreType', 'Assortment',\n",
       "       'CompetitionDistance', 'CompetitionOpenSinceMonth',\n",
       "       'CompetitionOpenSinceYear', 'Promo2', 'Promo2SinceWeek',\n",
       "       'Promo2SinceYear', 'PromoInterval'],\n",
       "      dtype='object')"
      ]
     },
     "execution_count": 6,
     "metadata": {},
     "output_type": "execute_result"
    }
   ],
   "source": [
    "df1.columns"
   ]
  },
  {
   "cell_type": "code",
   "execution_count": 7,
   "id": "a3806d58",
   "metadata": {},
   "outputs": [],
   "source": [
    "cols_old = ['Store', 'DayOfWeek', 'Date', 'Sales', 'Customers', 'Open', 'Promo',\n",
    "       'StateHoliday', 'SchoolHoliday', 'StoreType', 'Assortment',\n",
    "       'CompetitionDistance', 'CompetitionOpenSinceMonth',\n",
    "       'CompetitionOpenSinceYear', 'Promo2', 'Promo2SinceWeek',\n",
    "       'Promo2SinceYear', 'PromoInterval']\n",
    "\n",
    "# Colocando todas os nomes das colunas em minusculo e separado por underline\n",
    "snakecase = lambda x: inflection.underscore(x)\n",
    "cols_new = list(map(snakecase, cols_old))\n",
    "df1.columns = cols_new"
   ]
  },
  {
   "cell_type": "code",
   "execution_count": 8,
   "id": "c4aacab9",
   "metadata": {},
   "outputs": [
    {
     "data": {
      "text/html": [
       "<div>\n",
       "<style scoped>\n",
       "    .dataframe tbody tr th:only-of-type {\n",
       "        vertical-align: middle;\n",
       "    }\n",
       "\n",
       "    .dataframe tbody tr th {\n",
       "        vertical-align: top;\n",
       "    }\n",
       "\n",
       "    .dataframe thead th {\n",
       "        text-align: right;\n",
       "    }\n",
       "</style>\n",
       "<table border=\"1\" class=\"dataframe\">\n",
       "  <thead>\n",
       "    <tr style=\"text-align: right;\">\n",
       "      <th></th>\n",
       "      <th>store</th>\n",
       "      <th>day_of_week</th>\n",
       "      <th>date</th>\n",
       "      <th>sales</th>\n",
       "      <th>customers</th>\n",
       "      <th>open</th>\n",
       "      <th>promo</th>\n",
       "      <th>state_holiday</th>\n",
       "      <th>school_holiday</th>\n",
       "      <th>store_type</th>\n",
       "      <th>assortment</th>\n",
       "      <th>competition_distance</th>\n",
       "      <th>competition_open_since_month</th>\n",
       "      <th>competition_open_since_year</th>\n",
       "      <th>promo2</th>\n",
       "      <th>promo2_since_week</th>\n",
       "      <th>promo2_since_year</th>\n",
       "      <th>promo_interval</th>\n",
       "    </tr>\n",
       "  </thead>\n",
       "  <tbody>\n",
       "    <tr>\n",
       "      <th>0</th>\n",
       "      <td>1</td>\n",
       "      <td>5</td>\n",
       "      <td>2015-07-31</td>\n",
       "      <td>5263</td>\n",
       "      <td>555</td>\n",
       "      <td>1</td>\n",
       "      <td>1</td>\n",
       "      <td>0</td>\n",
       "      <td>1</td>\n",
       "      <td>c</td>\n",
       "      <td>a</td>\n",
       "      <td>1270.0</td>\n",
       "      <td>9.0</td>\n",
       "      <td>2008.0</td>\n",
       "      <td>0</td>\n",
       "      <td>NaN</td>\n",
       "      <td>NaN</td>\n",
       "      <td>NaN</td>\n",
       "    </tr>\n",
       "    <tr>\n",
       "      <th>1</th>\n",
       "      <td>2</td>\n",
       "      <td>5</td>\n",
       "      <td>2015-07-31</td>\n",
       "      <td>6064</td>\n",
       "      <td>625</td>\n",
       "      <td>1</td>\n",
       "      <td>1</td>\n",
       "      <td>0</td>\n",
       "      <td>1</td>\n",
       "      <td>a</td>\n",
       "      <td>a</td>\n",
       "      <td>570.0</td>\n",
       "      <td>11.0</td>\n",
       "      <td>2007.0</td>\n",
       "      <td>1</td>\n",
       "      <td>13.0</td>\n",
       "      <td>2010.0</td>\n",
       "      <td>Jan,Apr,Jul,Oct</td>\n",
       "    </tr>\n",
       "  </tbody>\n",
       "</table>\n",
       "</div>"
      ],
      "text/plain": [
       "   store  day_of_week        date  sales  customers  open  promo  \\\n",
       "0      1            5  2015-07-31   5263        555     1      1   \n",
       "1      2            5  2015-07-31   6064        625     1      1   \n",
       "\n",
       "  state_holiday  school_holiday store_type assortment  competition_distance  \\\n",
       "0             0               1          c          a                1270.0   \n",
       "1             0               1          a          a                 570.0   \n",
       "\n",
       "   competition_open_since_month  competition_open_since_year  promo2  \\\n",
       "0                           9.0                       2008.0       0   \n",
       "1                          11.0                       2007.0       1   \n",
       "\n",
       "   promo2_since_week  promo2_since_year   promo_interval  \n",
       "0                NaN                NaN              NaN  \n",
       "1               13.0             2010.0  Jan,Apr,Jul,Oct  "
      ]
     },
     "execution_count": 8,
     "metadata": {},
     "output_type": "execute_result"
    }
   ],
   "source": [
    "df1.head(2)"
   ]
  },
  {
   "cell_type": "markdown",
   "id": "3d110b4c",
   "metadata": {},
   "source": [
    "## 1.2 Data Dimensions"
   ]
  },
  {
   "cell_type": "code",
   "execution_count": 9,
   "id": "f45adfd2",
   "metadata": {},
   "outputs": [
    {
     "name": "stdout",
     "output_type": "stream",
     "text": [
      "Number of rows: 1017209\n",
      "Number of coumns: 18\n"
     ]
    }
   ],
   "source": [
    "print('Number of rows: {}'.format(df1.shape[0]))\n",
    "print('Number of coumns: {}'.format(df1.shape[1]))"
   ]
  },
  {
   "cell_type": "markdown",
   "id": "da69faf9",
   "metadata": {},
   "source": [
    "## 1.3 Data Types"
   ]
  },
  {
   "cell_type": "code",
   "execution_count": 10,
   "id": "43b050c9",
   "metadata": {},
   "outputs": [
    {
     "data": {
      "text/plain": [
       "store                                    int64\n",
       "day_of_week                              int64\n",
       "date                            datetime64[ns]\n",
       "sales                                    int64\n",
       "customers                                int64\n",
       "open                                     int64\n",
       "promo                                    int64\n",
       "state_holiday                           object\n",
       "school_holiday                           int64\n",
       "store_type                              object\n",
       "assortment                              object\n",
       "competition_distance                   float64\n",
       "competition_open_since_month           float64\n",
       "competition_open_since_year            float64\n",
       "promo2                                   int64\n",
       "promo2_since_week                      float64\n",
       "promo2_since_year                      float64\n",
       "promo_interval                          object\n",
       "dtype: object"
      ]
     },
     "execution_count": 10,
     "metadata": {},
     "output_type": "execute_result"
    }
   ],
   "source": [
    "# first changing date type\n",
    "df1['date'] = pd.to_datetime(df1['date'])\n",
    "\n",
    "df1.dtypes"
   ]
  },
  {
   "cell_type": "markdown",
   "id": "d60df2b8",
   "metadata": {},
   "source": [
    "## 1.4 Check NA"
   ]
  },
  {
   "cell_type": "markdown",
   "id": "4c4236a0",
   "metadata": {},
   "source": [
    "Verificação das colunas e quantidade de linhas que possuem valores NaN. Esses valores faltantes seram preenchidos com base na lógica do negócio."
   ]
  },
  {
   "cell_type": "code",
   "execution_count": 11,
   "id": "631f183a",
   "metadata": {},
   "outputs": [
    {
     "data": {
      "text/plain": [
       "store                                0\n",
       "day_of_week                          0\n",
       "date                                 0\n",
       "sales                                0\n",
       "customers                            0\n",
       "open                                 0\n",
       "promo                                0\n",
       "state_holiday                        0\n",
       "school_holiday                       0\n",
       "store_type                           0\n",
       "assortment                           0\n",
       "competition_distance              2642\n",
       "competition_open_since_month    323348\n",
       "competition_open_since_year     323348\n",
       "promo2                               0\n",
       "promo2_since_week               508031\n",
       "promo2_since_year               508031\n",
       "promo_interval                  508031\n",
       "dtype: int64"
      ]
     },
     "execution_count": 11,
     "metadata": {},
     "output_type": "execute_result"
    }
   ],
   "source": [
    "df1.isnull().sum()"
   ]
  },
  {
   "cell_type": "markdown",
   "id": "a71ef023",
   "metadata": {},
   "source": [
    "## 1.5. Fillout NA"
   ]
  },
  {
   "cell_type": "markdown",
   "id": "edf8c155",
   "metadata": {},
   "source": [
    "Aqui vamos substituir os valores faltantes. Todas presunções assumidass são feitas com o objetivo de chegar o mais proximo possivel da realidade das lojas Rossman."
   ]
  },
  {
   "cell_type": "code",
   "execution_count": 12,
   "id": "fb971e77",
   "metadata": {},
   "outputs": [],
   "source": [
    "# Column competition_distance(distance in meters to the nearest competitor store)\n",
    "'''\n",
    "   - Estrategia da solução: Substituir o valor faltante por um valor que seja muito maior que o valor máximo, \n",
    "     dessa forma, é como de disséssemos que não há competidor próximo.\n",
    "     A distância máxima é 75860.0, então substituir por um valor 200000.0 por exemplo já esta bom.\n",
    "'''\n",
    "df1['competition_distance'] = df1['competition_distance'].apply(lambda x: 200000.0 if math.isnan(x) else x)\n",
    "\n",
    "\n",
    "\n",
    "# Columns competition_open_since[Month/Year]  (gives the approximate year and month of the time the nearest competitor was opened)\n",
    "''' \n",
    "    - Estrategia da solução: Substituir o valor faltante pelo valor da coluna 'date', pode ser que isso não funcione , mas vamos\n",
    "      tentar já que essa é uma coluna muito importante.\n",
    "'''\n",
    "df1['competition_open_since_month'] = df1.apply( lambda x: x['date'].month if math.isnan( x['competition_open_since_month'] ) else x['competition_open_since_month'], axis=1 )\n",
    "df1['competition_open_since_year'] = df1.apply( lambda x: x['date'].year if math.isnan( x['competition_open_since_year'] ) else x['competition_open_since_year'], axis=1 )\n",
    "\n",
    "\n",
    "\n",
    "# Columns Promo2Since[Year/Week]  (describes the year and calendar week when the store started participating in Promo2)\n",
    "''' \n",
    "    - obs: Promo2 is a continuing and consecutive promotion for some stores: 0 = store is not participating, 1 = store is participating\n",
    "    - Estrategia da solução: Substituir o valor faltante pelo valor da coluna date\n",
    "'''\n",
    "df1['promo2_since_week'] = df1.apply( lambda x: x['date'].week if math.isnan( x['promo2_since_week'] ) else x['promo2_since_week'], axis=1 )\n",
    "df1['promo2_since_year'] = df1.apply( lambda x: x['date'].year if math.isnan( x['promo2_since_year'] ) else x['promo2_since_year'], axis=1 )\n",
    "\n",
    "\n",
    "\n",
    "# Column promo_interval  (describes the consecutive intervals Promo2 is started, naming the months the promotion is started anew.  E.g. \"Feb,May,Aug,Nov\" means each round starts in February, May, August, November of any given year for that store)\n",
    "'''\n",
    "    - Estrategia da solução: Vamos criar uma coluna 'month_map', que nos diz o mês da coluna 'date'. \n",
    "      Depois fazemos um split na coluna 'promo_interval', se a data estiver dentro da coluna 'month_map', então em uma nova coluna 'is_promo' falo que a promo2 foi ativada.\n",
    "'''\n",
    "month_map = {1: 'Jan', 2: 'Fev', 3: 'Mar', 4: 'Apr', 5: 'May', 6: 'Jun', 7: 'Jul', 8: 'Aug', 9: 'Sep', 10: 'Oct', 11: 'Nov', 12: 'Dec'}\n",
    "\n",
    "df1['promo_interval'].fillna(0, inplace=True )\n",
    "\n",
    "df1['month_map'] = df1['date'].dt.month.map( month_map )\n",
    "\n",
    "df1['is_promo'] = df1[['promo_interval', 'month_map']].apply( lambda x: 0 if x['promo_interval'] == 0 else 1 if x['month_map'] in x['promo_interval'].split( ',' ) else 0, axis=1 )"
   ]
  },
  {
   "cell_type": "code",
   "execution_count": 13,
   "id": "0c9d55fe",
   "metadata": {},
   "outputs": [
    {
     "data": {
      "text/plain": [
       "store                           0\n",
       "day_of_week                     0\n",
       "date                            0\n",
       "sales                           0\n",
       "customers                       0\n",
       "open                            0\n",
       "promo                           0\n",
       "state_holiday                   0\n",
       "school_holiday                  0\n",
       "store_type                      0\n",
       "assortment                      0\n",
       "competition_distance            0\n",
       "competition_open_since_month    0\n",
       "competition_open_since_year     0\n",
       "promo2                          0\n",
       "promo2_since_week               0\n",
       "promo2_since_year               0\n",
       "promo_interval                  0\n",
       "month_map                       0\n",
       "is_promo                        0\n",
       "dtype: int64"
      ]
     },
     "execution_count": 13,
     "metadata": {},
     "output_type": "execute_result"
    }
   ],
   "source": [
    "df1.isna().sum()"
   ]
  },
  {
   "cell_type": "markdown",
   "id": "f362ae9d",
   "metadata": {},
   "source": [
    "## 1.6. Change Data Types"
   ]
  },
  {
   "cell_type": "markdown",
   "id": "becb7b1c",
   "metadata": {},
   "source": [
    "Transformação nos tipos de variaveis das colunas."
   ]
  },
  {
   "cell_type": "code",
   "execution_count": 14,
   "id": "d3e24572",
   "metadata": {},
   "outputs": [],
   "source": [
    "# competiton\n",
    "df1['competition_open_since_month'] = df1['competition_open_since_month'].astype( 'int64' )\n",
    "df1['competition_open_since_year'] = df1['competition_open_since_year'].astype( 'int64' )\n",
    "\n",
    "# promo2\n",
    "df1['promo2_since_week'] = df1['promo2_since_week'].astype( 'int64' )\n",
    "df1['promo2_since_year'] = df1['promo2_since_year'].astype( 'int64' )"
   ]
  },
  {
   "cell_type": "code",
   "execution_count": 15,
   "id": "afc2b1e4",
   "metadata": {},
   "outputs": [
    {
     "data": {
      "text/plain": [
       "store                                    int64\n",
       "day_of_week                              int64\n",
       "date                            datetime64[ns]\n",
       "sales                                    int64\n",
       "customers                                int64\n",
       "open                                     int64\n",
       "promo                                    int64\n",
       "state_holiday                           object\n",
       "school_holiday                           int64\n",
       "store_type                              object\n",
       "assortment                              object\n",
       "competition_distance                   float64\n",
       "competition_open_since_month             int64\n",
       "competition_open_since_year              int64\n",
       "promo2                                   int64\n",
       "promo2_since_week                        int64\n",
       "promo2_since_year                        int64\n",
       "promo_interval                          object\n",
       "month_map                               object\n",
       "is_promo                                 int64\n",
       "dtype: object"
      ]
     },
     "execution_count": 15,
     "metadata": {},
     "output_type": "execute_result"
    }
   ],
   "source": [
    "df1.dtypes"
   ]
  },
  {
   "cell_type": "markdown",
   "id": "dce5550f",
   "metadata": {},
   "source": [
    "## 1.7. Descriptive Statistics"
   ]
  },
  {
   "cell_type": "markdown",
   "id": "ba213e1b",
   "metadata": {},
   "source": [
    "Analise estatistica descritiva das variaveis. Para as variaveis numericas foram tomadas medidas de tendencia central (média e mediana) e medidas de dispersão (desviopadrão, range, skewness e kurtosis). Para as váriaveis categóricas foi realizado um boxplot.\n",
    "\n",
    "Essa análise nos permite ter uma breve noção do comportamento dos dados com que estamos trabalhando."
   ]
  },
  {
   "cell_type": "code",
   "execution_count": 16,
   "id": "93a594d6",
   "metadata": {},
   "outputs": [],
   "source": [
    "# dados numericos\n",
    "num_attributes = df1.select_dtypes( include=['int64', 'float64'] )\n",
    "\n",
    "# dados categoricos\n",
    "cat_attributes = df1.select_dtypes( exclude=['int64', 'float64', 'datetime64[ns]'] )"
   ]
  },
  {
   "cell_type": "code",
   "execution_count": 17,
   "id": "eb04e58f",
   "metadata": {},
   "outputs": [
    {
     "data": {
      "text/html": [
       "<div>\n",
       "<style scoped>\n",
       "    .dataframe tbody tr th:only-of-type {\n",
       "        vertical-align: middle;\n",
       "    }\n",
       "\n",
       "    .dataframe tbody tr th {\n",
       "        vertical-align: top;\n",
       "    }\n",
       "\n",
       "    .dataframe thead th {\n",
       "        text-align: right;\n",
       "    }\n",
       "</style>\n",
       "<table border=\"1\" class=\"dataframe\">\n",
       "  <thead>\n",
       "    <tr style=\"text-align: right;\">\n",
       "      <th></th>\n",
       "      <th>store</th>\n",
       "      <th>day_of_week</th>\n",
       "      <th>sales</th>\n",
       "      <th>customers</th>\n",
       "      <th>open</th>\n",
       "      <th>promo</th>\n",
       "      <th>school_holiday</th>\n",
       "      <th>competition_distance</th>\n",
       "      <th>competition_open_since_month</th>\n",
       "      <th>competition_open_since_year</th>\n",
       "      <th>promo2</th>\n",
       "      <th>promo2_since_week</th>\n",
       "      <th>promo2_since_year</th>\n",
       "      <th>is_promo</th>\n",
       "    </tr>\n",
       "  </thead>\n",
       "  <tbody>\n",
       "    <tr>\n",
       "      <th>639838</th>\n",
       "      <td>614</td>\n",
       "      <td>4</td>\n",
       "      <td>11006</td>\n",
       "      <td>1400</td>\n",
       "      <td>1</td>\n",
       "      <td>1</td>\n",
       "      <td>0</td>\n",
       "      <td>1160.0</td>\n",
       "      <td>12</td>\n",
       "      <td>2012</td>\n",
       "      <td>0</td>\n",
       "      <td>49</td>\n",
       "      <td>2013</td>\n",
       "      <td>0</td>\n",
       "    </tr>\n",
       "    <tr>\n",
       "      <th>561385</th>\n",
       "      <td>211</td>\n",
       "      <td>4</td>\n",
       "      <td>10948</td>\n",
       "      <td>1407</td>\n",
       "      <td>1</td>\n",
       "      <td>0</td>\n",
       "      <td>0</td>\n",
       "      <td>350.0</td>\n",
       "      <td>11</td>\n",
       "      <td>2006</td>\n",
       "      <td>0</td>\n",
       "      <td>7</td>\n",
       "      <td>2014</td>\n",
       "      <td>0</td>\n",
       "    </tr>\n",
       "  </tbody>\n",
       "</table>\n",
       "</div>"
      ],
      "text/plain": [
       "        store  day_of_week  sales  customers  open  promo  school_holiday  \\\n",
       "639838    614            4  11006       1400     1      1               0   \n",
       "561385    211            4  10948       1407     1      0               0   \n",
       "\n",
       "        competition_distance  competition_open_since_month  \\\n",
       "639838                1160.0                            12   \n",
       "561385                 350.0                            11   \n",
       "\n",
       "        competition_open_since_year  promo2  promo2_since_week  \\\n",
       "639838                         2012       0                 49   \n",
       "561385                         2006       0                  7   \n",
       "\n",
       "        promo2_since_year  is_promo  \n",
       "639838               2013         0  \n",
       "561385               2014         0  "
      ]
     },
     "execution_count": 17,
     "metadata": {},
     "output_type": "execute_result"
    }
   ],
   "source": [
    "num_attributes.sample(2)"
   ]
  },
  {
   "cell_type": "code",
   "execution_count": 18,
   "id": "d1bb69ea",
   "metadata": {},
   "outputs": [
    {
     "data": {
      "text/html": [
       "<div>\n",
       "<style scoped>\n",
       "    .dataframe tbody tr th:only-of-type {\n",
       "        vertical-align: middle;\n",
       "    }\n",
       "\n",
       "    .dataframe tbody tr th {\n",
       "        vertical-align: top;\n",
       "    }\n",
       "\n",
       "    .dataframe thead th {\n",
       "        text-align: right;\n",
       "    }\n",
       "</style>\n",
       "<table border=\"1\" class=\"dataframe\">\n",
       "  <thead>\n",
       "    <tr style=\"text-align: right;\">\n",
       "      <th></th>\n",
       "      <th>state_holiday</th>\n",
       "      <th>store_type</th>\n",
       "      <th>assortment</th>\n",
       "      <th>promo_interval</th>\n",
       "      <th>month_map</th>\n",
       "    </tr>\n",
       "  </thead>\n",
       "  <tbody>\n",
       "    <tr>\n",
       "      <th>500904</th>\n",
       "      <td>0</td>\n",
       "      <td>c</td>\n",
       "      <td>a</td>\n",
       "      <td>0</td>\n",
       "      <td>Apr</td>\n",
       "    </tr>\n",
       "    <tr>\n",
       "      <th>163776</th>\n",
       "      <td>0</td>\n",
       "      <td>c</td>\n",
       "      <td>a</td>\n",
       "      <td>0</td>\n",
       "      <td>Mar</td>\n",
       "    </tr>\n",
       "  </tbody>\n",
       "</table>\n",
       "</div>"
      ],
      "text/plain": [
       "       state_holiday store_type assortment promo_interval month_map\n",
       "500904             0          c          a              0       Apr\n",
       "163776             0          c          a              0       Mar"
      ]
     },
     "execution_count": 18,
     "metadata": {},
     "output_type": "execute_result"
    }
   ],
   "source": [
    "cat_attributes.sample(2)"
   ]
  },
  {
   "cell_type": "markdown",
   "id": "dc40ee47",
   "metadata": {},
   "source": [
    "### 1.7.1. Numerical Atributes"
   ]
  },
  {
   "cell_type": "code",
   "execution_count": 19,
   "id": "dfecf84f",
   "metadata": {},
   "outputs": [
    {
     "data": {
      "text/html": [
       "<div>\n",
       "<style scoped>\n",
       "    .dataframe tbody tr th:only-of-type {\n",
       "        vertical-align: middle;\n",
       "    }\n",
       "\n",
       "    .dataframe tbody tr th {\n",
       "        vertical-align: top;\n",
       "    }\n",
       "\n",
       "    .dataframe thead th {\n",
       "        text-align: right;\n",
       "    }\n",
       "</style>\n",
       "<table border=\"1\" class=\"dataframe\">\n",
       "  <thead>\n",
       "    <tr style=\"text-align: right;\">\n",
       "      <th></th>\n",
       "      <th>attributes</th>\n",
       "      <th>min</th>\n",
       "      <th>max</th>\n",
       "      <th>range</th>\n",
       "      <th>mean</th>\n",
       "      <th>median</th>\n",
       "      <th>std</th>\n",
       "      <th>skew</th>\n",
       "      <th>kurtosis</th>\n",
       "    </tr>\n",
       "  </thead>\n",
       "  <tbody>\n",
       "    <tr>\n",
       "      <th>0</th>\n",
       "      <td>store</td>\n",
       "      <td>1.0</td>\n",
       "      <td>1115.0</td>\n",
       "      <td>1114.0</td>\n",
       "      <td>558.429727</td>\n",
       "      <td>558.0</td>\n",
       "      <td>321.908493</td>\n",
       "      <td>-0.000955</td>\n",
       "      <td>-1.200524</td>\n",
       "    </tr>\n",
       "    <tr>\n",
       "      <th>1</th>\n",
       "      <td>day_of_week</td>\n",
       "      <td>1.0</td>\n",
       "      <td>7.0</td>\n",
       "      <td>6.0</td>\n",
       "      <td>3.998341</td>\n",
       "      <td>4.0</td>\n",
       "      <td>1.997390</td>\n",
       "      <td>0.001593</td>\n",
       "      <td>-1.246873</td>\n",
       "    </tr>\n",
       "    <tr>\n",
       "      <th>2</th>\n",
       "      <td>sales</td>\n",
       "      <td>0.0</td>\n",
       "      <td>41551.0</td>\n",
       "      <td>41551.0</td>\n",
       "      <td>5773.818972</td>\n",
       "      <td>5744.0</td>\n",
       "      <td>3849.924283</td>\n",
       "      <td>0.641460</td>\n",
       "      <td>1.778375</td>\n",
       "    </tr>\n",
       "    <tr>\n",
       "      <th>3</th>\n",
       "      <td>customers</td>\n",
       "      <td>0.0</td>\n",
       "      <td>7388.0</td>\n",
       "      <td>7388.0</td>\n",
       "      <td>633.145946</td>\n",
       "      <td>609.0</td>\n",
       "      <td>464.411506</td>\n",
       "      <td>1.598650</td>\n",
       "      <td>7.091773</td>\n",
       "    </tr>\n",
       "    <tr>\n",
       "      <th>4</th>\n",
       "      <td>open</td>\n",
       "      <td>0.0</td>\n",
       "      <td>1.0</td>\n",
       "      <td>1.0</td>\n",
       "      <td>0.830107</td>\n",
       "      <td>1.0</td>\n",
       "      <td>0.375539</td>\n",
       "      <td>-1.758045</td>\n",
       "      <td>1.090723</td>\n",
       "    </tr>\n",
       "    <tr>\n",
       "      <th>5</th>\n",
       "      <td>promo</td>\n",
       "      <td>0.0</td>\n",
       "      <td>1.0</td>\n",
       "      <td>1.0</td>\n",
       "      <td>0.381515</td>\n",
       "      <td>0.0</td>\n",
       "      <td>0.485758</td>\n",
       "      <td>0.487838</td>\n",
       "      <td>-1.762018</td>\n",
       "    </tr>\n",
       "    <tr>\n",
       "      <th>6</th>\n",
       "      <td>school_holiday</td>\n",
       "      <td>0.0</td>\n",
       "      <td>1.0</td>\n",
       "      <td>1.0</td>\n",
       "      <td>0.178647</td>\n",
       "      <td>0.0</td>\n",
       "      <td>0.383056</td>\n",
       "      <td>1.677842</td>\n",
       "      <td>0.815154</td>\n",
       "    </tr>\n",
       "    <tr>\n",
       "      <th>7</th>\n",
       "      <td>competition_distance</td>\n",
       "      <td>20.0</td>\n",
       "      <td>200000.0</td>\n",
       "      <td>199980.0</td>\n",
       "      <td>5935.442677</td>\n",
       "      <td>2330.0</td>\n",
       "      <td>12547.646829</td>\n",
       "      <td>10.242344</td>\n",
       "      <td>147.789712</td>\n",
       "    </tr>\n",
       "    <tr>\n",
       "      <th>8</th>\n",
       "      <td>competition_open_since_month</td>\n",
       "      <td>1.0</td>\n",
       "      <td>12.0</td>\n",
       "      <td>11.0</td>\n",
       "      <td>6.786849</td>\n",
       "      <td>7.0</td>\n",
       "      <td>3.311085</td>\n",
       "      <td>-0.042076</td>\n",
       "      <td>-1.232607</td>\n",
       "    </tr>\n",
       "    <tr>\n",
       "      <th>9</th>\n",
       "      <td>competition_open_since_year</td>\n",
       "      <td>1900.0</td>\n",
       "      <td>2015.0</td>\n",
       "      <td>115.0</td>\n",
       "      <td>2010.324840</td>\n",
       "      <td>2012.0</td>\n",
       "      <td>5.515591</td>\n",
       "      <td>-7.235657</td>\n",
       "      <td>124.071304</td>\n",
       "    </tr>\n",
       "    <tr>\n",
       "      <th>10</th>\n",
       "      <td>promo2</td>\n",
       "      <td>0.0</td>\n",
       "      <td>1.0</td>\n",
       "      <td>1.0</td>\n",
       "      <td>0.500564</td>\n",
       "      <td>1.0</td>\n",
       "      <td>0.500000</td>\n",
       "      <td>-0.002255</td>\n",
       "      <td>-1.999999</td>\n",
       "    </tr>\n",
       "    <tr>\n",
       "      <th>11</th>\n",
       "      <td>promo2_since_week</td>\n",
       "      <td>1.0</td>\n",
       "      <td>52.0</td>\n",
       "      <td>51.0</td>\n",
       "      <td>23.619033</td>\n",
       "      <td>22.0</td>\n",
       "      <td>14.310057</td>\n",
       "      <td>0.178723</td>\n",
       "      <td>-1.184046</td>\n",
       "    </tr>\n",
       "    <tr>\n",
       "      <th>12</th>\n",
       "      <td>promo2_since_year</td>\n",
       "      <td>2009.0</td>\n",
       "      <td>2015.0</td>\n",
       "      <td>6.0</td>\n",
       "      <td>2012.793297</td>\n",
       "      <td>2013.0</td>\n",
       "      <td>1.662657</td>\n",
       "      <td>-0.784436</td>\n",
       "      <td>-0.210075</td>\n",
       "    </tr>\n",
       "    <tr>\n",
       "      <th>13</th>\n",
       "      <td>is_promo</td>\n",
       "      <td>0.0</td>\n",
       "      <td>1.0</td>\n",
       "      <td>1.0</td>\n",
       "      <td>0.155231</td>\n",
       "      <td>0.0</td>\n",
       "      <td>0.362124</td>\n",
       "      <td>1.904152</td>\n",
       "      <td>1.625796</td>\n",
       "    </tr>\n",
       "  </tbody>\n",
       "</table>\n",
       "</div>"
      ],
      "text/plain": [
       "                      attributes     min       max     range         mean  \\\n",
       "0                          store     1.0    1115.0    1114.0   558.429727   \n",
       "1                    day_of_week     1.0       7.0       6.0     3.998341   \n",
       "2                          sales     0.0   41551.0   41551.0  5773.818972   \n",
       "3                      customers     0.0    7388.0    7388.0   633.145946   \n",
       "4                           open     0.0       1.0       1.0     0.830107   \n",
       "5                          promo     0.0       1.0       1.0     0.381515   \n",
       "6                 school_holiday     0.0       1.0       1.0     0.178647   \n",
       "7           competition_distance    20.0  200000.0  199980.0  5935.442677   \n",
       "8   competition_open_since_month     1.0      12.0      11.0     6.786849   \n",
       "9    competition_open_since_year  1900.0    2015.0     115.0  2010.324840   \n",
       "10                        promo2     0.0       1.0       1.0     0.500564   \n",
       "11             promo2_since_week     1.0      52.0      51.0    23.619033   \n",
       "12             promo2_since_year  2009.0    2015.0       6.0  2012.793297   \n",
       "13                      is_promo     0.0       1.0       1.0     0.155231   \n",
       "\n",
       "    median           std       skew    kurtosis  \n",
       "0    558.0    321.908493  -0.000955   -1.200524  \n",
       "1      4.0      1.997390   0.001593   -1.246873  \n",
       "2   5744.0   3849.924283   0.641460    1.778375  \n",
       "3    609.0    464.411506   1.598650    7.091773  \n",
       "4      1.0      0.375539  -1.758045    1.090723  \n",
       "5      0.0      0.485758   0.487838   -1.762018  \n",
       "6      0.0      0.383056   1.677842    0.815154  \n",
       "7   2330.0  12547.646829  10.242344  147.789712  \n",
       "8      7.0      3.311085  -0.042076   -1.232607  \n",
       "9   2012.0      5.515591  -7.235657  124.071304  \n",
       "10     1.0      0.500000  -0.002255   -1.999999  \n",
       "11    22.0     14.310057   0.178723   -1.184046  \n",
       "12  2013.0      1.662657  -0.784436   -0.210075  \n",
       "13     0.0      0.362124   1.904152    1.625796  "
      ]
     },
     "execution_count": 19,
     "metadata": {},
     "output_type": "execute_result"
    }
   ],
   "source": [
    "# Central Tendency - mean, meadina\n",
    "ct1 = pd.DataFrame( num_attributes.apply( np.mean ) ).T\n",
    "ct2 = pd.DataFrame( num_attributes.apply( np.median ) ).T\n",
    "\n",
    "\n",
    "# dispersion - std, min, max, range, skew, kurtosis\n",
    "d1 = pd.DataFrame( num_attributes.apply( np.std ) ).T\n",
    "d2 = pd.DataFrame( num_attributes.apply( min ) ).T\n",
    "d3 = pd.DataFrame( num_attributes.apply( max ) ).T\n",
    "d4 = pd.DataFrame( num_attributes.apply( lambda x: x.max() - x.min() ) ).T  # range\n",
    "d5 = pd.DataFrame( num_attributes.apply( lambda x: x.skew() ) ).T          # range\n",
    "d6 = pd.DataFrame( num_attributes.apply( lambda x: x.kurtosis() ) ).T     # kurtosis\n",
    "\n",
    "\n",
    "# concatenar\n",
    "m = pd.concat( [d2, d3, d4, ct1, ct2, d1, d5, d6] ).T.reset_index()\n",
    "m.columns = ['attributes', 'min', 'max', 'range', 'mean', 'median', 'std', 'skew', 'kurtosis']\n",
    "m"
   ]
  },
  {
   "cell_type": "markdown",
   "id": "8fb110c5",
   "metadata": {},
   "source": [
    "### 1.7.2. Categorical Atributes"
   ]
  },
  {
   "cell_type": "code",
   "execution_count": 20,
   "id": "29a05369",
   "metadata": {},
   "outputs": [
    {
     "data": {
      "text/plain": [
       "state_holiday      4\n",
       "store_type         4\n",
       "assortment         3\n",
       "promo_interval     4\n",
       "month_map         12\n",
       "dtype: int64"
      ]
     },
     "execution_count": 20,
     "metadata": {},
     "output_type": "execute_result"
    }
   ],
   "source": [
    "cat_attributes.apply( lambda x: x.unique().shape[0] )"
   ]
  },
  {
   "cell_type": "code",
   "execution_count": 21,
   "id": "acb14a86",
   "metadata": {},
   "outputs": [
    {
     "data": {
      "image/png": "[encoded data removed]",
      "text/plain": [
       "<Figure size 2000x1000 with 3 Axes>"
      ]
     },
     "metadata": {},
     "output_type": "display_data"
    }
   ],
   "source": [
    "aux = df1[(df1['state_holiday'] != '0') & (df1['sales'] > 0)]\n",
    "\n",
    "plt.figure(figsize=(20,10))\n",
    "\n",
    "plt.subplot( 1, 3, 1 )\n",
    "sns.boxplot( x='state_holiday', y='sales', data=aux );\n",
    "\n",
    "plt.subplot( 1, 3, 2 )\n",
    "sns.boxplot( x='store_type', y='sales', data=aux );\n",
    "\n",
    "plt.subplot( 1, 3, 3 )\n",
    "sns.boxplot( x='assortment', y='sales', data=aux );"
   ]
  },
  {
   "cell_type": "markdown",
   "id": "861d7fa0",
   "metadata": {},
   "source": [
    "# 2.0 FEATURE ENGINEERING"
   ]
  },
  {
   "cell_type": "markdown",
   "id": "d8399806",
   "metadata": {},
   "source": [
    "Nessa etapa vamos levantar algumas hipoteses a partir de uma mapa metal de hipoteses e criar features a partir das variaveis já existentes."
   ]
  },
  {
   "cell_type": "code",
   "execution_count": 22,
   "id": "29a22b04",
   "metadata": {},
   "outputs": [],
   "source": [
    "df2 = df1.copy()"
   ]
  },
  {
   "cell_type": "markdown",
   "id": "cc71a9b1",
   "metadata": {},
   "source": [
    "## 2.1. Mapa Mental de Hipóteses"
   ]
  },
  {
   "cell_type": "markdown",
   "id": "745a6411",
   "metadata": {},
   "source": [
    "Para dar inicio ao processo de feature engineering foi criado um mapa mental de hipoteses. Baseando no problema de negócio foi criado diferentes hipoteses separadas por Lojas, Clientes, Produtos, Localização e Temporal."
   ]
  },
  {
   "cell_type": "code",
   "execution_count": 23,
   "id": "d23980d6",
   "metadata": {},
   "outputs": [
    {
     "data": {
      "image/png": "[encoded data removed]",
      "text/plain": [
       "<IPython.core.display.Image object>"
      ]
     },
     "execution_count": 23,
     "metadata": {},
     "output_type": "execute_result"
    }
   ],
   "source": [
    "Image( 'img/MindMapHypothesis.png' )"
   ]
  },
  {
   "cell_type": "markdown",
   "id": "8a919131",
   "metadata": {},
   "source": [
    "## 2.2. Criação das Hipoteses"
   ]
  },
  {
   "cell_type": "markdown",
   "id": "98e27b52",
   "metadata": {},
   "source": [
    "### 2.2.1. Hipoteses Loja"
   ]
  },
  {
   "cell_type": "markdown",
   "id": "97e5065a",
   "metadata": {},
   "source": [
    "1. Lojas com número maior quadro de funcionários deveriam vender mais.\n",
    "2. Lojas com maior capacidade de estoque deveriam vender mais.\n",
    "3. Lojas com maior porte deveriam vender mais.\n",
    "4. Lojas com maior sortimentos deveriam vender mais.\n",
    "5. Lojas com competidores mais próximos deveriam vender menos.\n",
    "6. Lojas com competidores à mais tempo deveriam vendem mais."
   ]
  },
  {
   "cell_type": "markdown",
   "id": "9e7666f3",
   "metadata": {},
   "source": [
    "### 2.2.2. Hipoteses Produto"
   ]
  },
  {
   "cell_type": "markdown",
   "id": "42cfa977",
   "metadata": {},
   "source": [
    "1. Lojas que investem mais em Marketing deveriam vender mais.\n",
    "2. Lojas com maior exposição de produto deveriam vender mais.\n",
    "3. Lojas com produtos com preço menor deveriam vender mais.\n",
    "5. Lojas com promoções mais agressivas ( descontos maiores ), deveriam vender mais.\n",
    "6. Lojas com promoções ativas por mais tempo deveriam vender mais.\n",
    "7. Lojas com mais dias de promoção deveriam vender mais.\n",
    "8. Lojas com mais promoções consecutivas deveriam vender mais."
   ]
  },
  {
   "cell_type": "markdown",
   "id": "dbf820e6",
   "metadata": {},
   "source": [
    "### 2.2.3. Hipoteses Tempo"
   ]
  },
  {
   "cell_type": "markdown",
   "id": "19118f3d",
   "metadata": {},
   "source": [
    "1. Lojas abertas durante o feriado de Natal deveriam vender mais.\n",
    "2. Lojas deveriam vender mais ao longo dos anos.\n",
    "3. Lojas deveriam vender mais no segundo semestre do ano.\n",
    "4. Lojas deveriam vender mais depois do dia 10 de cada mês.\n",
    "5. Lojas deveriam vender menos aos finais de semana.\n",
    "6. Lojas deveriam vender menos durante os feriados escolares."
   ]
  },
  {
   "cell_type": "markdown",
   "id": "e3f817af",
   "metadata": {},
   "source": [
    "##  2.3. Lista Final de Hipóteses"
   ]
  },
  {
   "cell_type": "markdown",
   "id": "8edfa0e5",
   "metadata": {},
   "source": [
    "**1.** Lojas com maior sortimentos deveriam vender mais.\n",
    "\n",
    "**2.** Lojas com competidores mais próximos deveriam vender menos.\n",
    "\n",
    "**3.** Lojas com competidores à mais tempo deveriam vendem mais."
   ]
  },
  {
   "cell_type": "markdown",
   "id": "63f9fd92",
   "metadata": {},
   "source": [
    "**4.** Lojas com promoções ativas por mais tempo deveriam vender mais.\n",
    "\n",
    "**5.** Lojas com mais dias de promoção deveriam vender mais.\n",
    "\n",
    "**7.** Lojas com mais promoções consecutivas deveriam vender mais."
   ]
  },
  {
   "cell_type": "markdown",
   "id": "abc6c9bb",
   "metadata": {},
   "source": [
    "**8.** Lojas abertas durante o feriado de Natal deveriam vender mais.\n",
    "\n",
    "**9.** Lojas deveriam vender mais ao longo dos anos.\n",
    "\n",
    "**10.** Lojas deveriam vender mais no segundo semestre do ano.\n",
    "\n",
    "**11.** Lojas deveriam vender mais depois do dia 10 de cada mês.\n",
    "\n",
    "**12.** Lojas deveriam vender menos aos finais de semana.\n",
    "\n",
    "**13.** Lojas deveriam vender menos durante os feriados escolares."
   ]
  },
  {
   "cell_type": "markdown",
   "id": "8a781a81",
   "metadata": {},
   "source": [
    "## 2.4. Feature Engineering"
   ]
  },
  {
   "cell_type": "markdown",
   "id": "a7768b6f",
   "metadata": {},
   "source": [
    "Agora começa o processo de extração de novas variavéis a partir das disponiveis no dataframe. As variaveis derivadas abaixo são, respectivamente:\n",
    "- Ano\n",
    "- Mês\n",
    "- Dia\n",
    "- Semana do ano\n",
    "- Ano-Semana\n",
    "- Tempo de competição\n",
    "- Tempo de competição por mês\n",
    "- Tempo de promoção\n",
    "- Tempo de promoção por semana\n",
    "- Alteração nos valores de assortment/state_holiday para seus devidos significados"
   ]
  },
  {
   "cell_type": "code",
   "execution_count": 24,
   "id": "dd44e6e5",
   "metadata": {},
   "outputs": [
    {
     "ename": "AttributeError",
     "evalue": "'DatetimeProperties' object has no attribute 'weekofyear'",
     "output_type": "error",
     "traceback": [
      "\u001b[1;31m---------------------------------------------------------------------------\u001b[0m",
      "\u001b[1;31mAttributeError\u001b[0m                            Traceback (most recent call last)",
      "Cell \u001b[1;32mIn[24], line 16\u001b[0m\n\u001b[0;32m     12\u001b[0m df2[\u001b[38;5;124m'\u001b[39m\u001b[38;5;124mday\u001b[39m\u001b[38;5;124m'\u001b[39m] \u001b[38;5;241m=\u001b[39m df2[\u001b[38;5;124m'\u001b[39m\u001b[38;5;124mdate\u001b[39m\u001b[38;5;124m'\u001b[39m]\u001b[38;5;241m.\u001b[39mdt\u001b[38;5;241m.\u001b[39mday\n\u001b[0;32m     15\u001b[0m \u001b[38;5;66;03m# week of year\u001b[39;00m\n\u001b[1;32m---> 16\u001b[0m df2[\u001b[38;5;124m'\u001b[39m\u001b[38;5;124mweek_of_year\u001b[39m\u001b[38;5;124m'\u001b[39m] \u001b[38;5;241m=\u001b[39m df2[\u001b[38;5;124m'\u001b[39m\u001b[38;5;124mdate\u001b[39m\u001b[38;5;124m'\u001b[39m]\u001b[38;5;241m.\u001b[39mdt\u001b[38;5;241m.\u001b[39mweekofyear\n\u001b[0;32m     19\u001b[0m \u001b[38;5;66;03m# year week\u001b[39;00m\n\u001b[0;32m     20\u001b[0m df2[\u001b[38;5;124m'\u001b[39m\u001b[38;5;124myear_week\u001b[39m\u001b[38;5;124m'\u001b[39m] \u001b[38;5;241m=\u001b[39m df2[\u001b[38;5;124m'\u001b[39m\u001b[38;5;124mdate\u001b[39m\u001b[38;5;124m'\u001b[39m]\u001b[38;5;241m.\u001b[39mdt\u001b[38;5;241m.\u001b[39mstrftime( \u001b[38;5;124m'\u001b[39m\u001b[38;5;124m%\u001b[39m\u001b[38;5;124mY-\u001b[39m\u001b[38;5;124m%\u001b[39m\u001b[38;5;124mW\u001b[39m\u001b[38;5;124m'\u001b[39m )\n",
      "\u001b[1;31mAttributeError\u001b[0m: 'DatetimeProperties' object has no attribute 'weekofyear'"
     ]
    }
   ],
   "source": [
    "# Criando variaveis\n",
    "\n",
    "# year\n",
    "df2['year'] = df2['date'].dt.year\n",
    "\n",
    "\n",
    "# month\n",
    "df2['month'] = df2['date'].dt.month\n",
    "\n",
    "\n",
    "# day\n",
    "df2['day'] = df2['date'].dt.day\n",
    "\n",
    "\n",
    "# week of year\n",
    "df2['week_of_year'] = df2['date'].dt.weekofyear\n",
    "\n",
    "\n",
    "# year week\n",
    "df2['year_week'] = df2['date'].dt.strftime( '%Y-%W' )\n",
    "\n",
    "\n",
    "# competition since\n",
    "df2['competition_since'] = df2.apply(lambda x : datetime.datetime( year=x['competition_open_since_year'], month=x['competition_open_since_month'], day=1 ), axis=1)\n",
    "df2['competition_time_month'] = ( (df2['date'] - df2['competition_since'])/30).apply(lambda x: x.days ).astype(int)\n",
    "\n",
    "\n",
    "# promo since\n",
    "df2['promo_since'] = df2['promo2_since_year'].astype( str ) + '-' + df2['promo2_since_week'].astype( str )\n",
    "df2['promo_since'] = df2['promo_since'].apply( lambda x: datetime.datetime.strptime( x + '-1', '%Y-%W-%w' ) - datetime.timedelta( days=7 ))\n",
    "df2['promo_time_week'] = ( ( df2['date'] - df2['promo_since'] )/7 ).apply(lambda x: x.days ).astype( int )\n",
    "\n",
    "\n",
    "# assortment\n",
    "df2['assortment'] = df2['assortment'].apply( lambda x: 'basic' if x == 'a' else 'extra' if x == 'b' else 'extended' )\n",
    "\n",
    "\n",
    "# state holiday\n",
    "df2['state_holiday'] = df2['state_holiday'].apply( lambda x: 'public_holiday' if x == 'a' else 'easter_holiday' if x == 'b' else 'christmas' if x == 'c' else 'regular_day' )\n"
   ]
  },
  {
   "cell_type": "markdown",
   "id": "a3cddee5",
   "metadata": {},
   "source": [
    "# 3.0 VARIABLES FILTERING"
   ]
  },
  {
   "cell_type": "markdown",
   "id": "b1bf4b0b",
   "metadata": {},
   "source": [
    "Nessa etapa vamos filtrar os dados baseado nas restrições do negócio."
   ]
  },
  {
   "cell_type": "code",
   "execution_count": null,
   "id": "cbd22fc9",
   "metadata": {},
   "outputs": [],
   "source": [
    "df3 = df2.copy()"
   ]
  },
  {
   "cell_type": "markdown",
   "id": "642e0216",
   "metadata": {},
   "source": [
    "## 3.1. Filtragem das Linhas"
   ]
  },
  {
   "cell_type": "markdown",
   "id": "8b9c4d03",
   "metadata": {},
   "source": [
    "Linhas onde a loja estava fechada ou com vendas iguais a zero não serão úteis para a modelagem. "
   ]
  },
  {
   "cell_type": "code",
   "execution_count": null,
   "id": "1f43dd5e",
   "metadata": {},
   "outputs": [],
   "source": [
    "# filtrando somente as lojas abertas \n",
    "df3 = df3[(df3['open'] != 0) & (df3['sales'] > 0)]"
   ]
  },
  {
   "cell_type": "markdown",
   "id": "18aad365",
   "metadata": {},
   "source": [
    "## 3.2. Selecao das Colunas"
   ]
  },
  {
   "cell_type": "markdown",
   "id": "33eca2e4",
   "metadata": {},
   "source": [
    "Agora também selecionamos as colunas que não agregam informação para o modelo."
   ]
  },
  {
   "cell_type": "code",
   "execution_count": null,
   "id": "bb4b8bc0",
   "metadata": {},
   "outputs": [],
   "source": [
    "cols_drop = ['customers', 'open', 'promo_interval', 'month_map']\n",
    "df3 = df3.drop( cols_drop, axis=1 )"
   ]
  },
  {
   "cell_type": "markdown",
   "id": "940b0deb",
   "metadata": {},
   "source": [
    "# 4.0 EXPLORATORY DATA ANALYSIS (EDA)"
   ]
  },
  {
   "cell_type": "markdown",
   "id": "4441a390",
   "metadata": {},
   "source": [
    "Nessa etapa o objetivo é :\n",
    "* Entender o negocio e gerar insights.\n",
    "* Encontrar variaveis relevantes para o aprendizado do modelo.\n",
    "\n",
    " (Para isso vamos as hipoteses já criadas)"
   ]
  },
  {
   "cell_type": "code",
   "execution_count": null,
   "id": "5bf6bcbd",
   "metadata": {},
   "outputs": [],
   "source": [
    "df4 = df3.copy()"
   ]
  },
  {
   "cell_type": "markdown",
   "id": "afce96a4",
   "metadata": {},
   "source": [
    "## 4.1. Analise Univariada"
   ]
  },
  {
   "cell_type": "markdown",
   "id": "dd628bad",
   "metadata": {},
   "source": [
    "### 4.1.1. Response Variable"
   ]
  },
  {
   "cell_type": "markdown",
   "id": "30930c9a",
   "metadata": {},
   "source": [
    "No primeiro gráfico abaixo temos a distribuição da varavel resposta \"Sales\", vemos que sua distribuição não é exatamente uma normal pois apresenta uma skewness positiva, como indicado pela tabela obtida na seção 1.6. Em geral os algoritmos de Machine Learning apresentam um melhor resultado com distribuição normal, podemos então transformar a variavel resposta aplicando uma função ln(x) (será feito mais a frente), obtendo assim uma distribuição mais fiel a uma normal, como mostrado na segunda figura."
   ]
  },
  {
   "cell_type": "code",
   "execution_count": null,
   "id": "542997bc",
   "metadata": {},
   "outputs": [],
   "source": [
    "# Distribuição da variavel resposta \"sales\"\n",
    "fig = plt.subplots(1,2,figsize=(21,7))\n",
    "\n",
    "plt.subplot(1,2,1)\n",
    "sns.histplot(df4['sales'], kde=True, stat=\"density\"); plt.title('Distribuição da variavel sales (sem transformações)');\n",
    "plt.subplot(1,2,2)\n",
    "sns.histplot(np.log1p(df4['sales']), kde=True, stat=\"density\"); plt.title('Distribuição da variavel sales com transformação ln(x+1)');\n"
   ]
  },
  {
   "cell_type": "markdown",
   "id": "3fb68b66",
   "metadata": {},
   "source": [
    "### 4.1.2. Numerical Variable"
   ]
  },
  {
   "cell_type": "markdown",
   "id": "6bcab597",
   "metadata": {},
   "source": [
    "Podemos notar nos histogramas abaixo que não temos váriavéis númericas que apresentam um distribuição caracteristica, exceto pela váriavel sales, essa porém é a nossa variavél resposta. Isso implica na impossibilidade de aplicar métodos de normalização posteriormente, nos restando utilizar métodos de reescala."
   ]
  },
  {
   "cell_type": "code",
   "execution_count": null,
   "id": "ba812d44",
   "metadata": {},
   "outputs": [],
   "source": [
    "num_attributes.hist( bins=40,  figsize=(13,10));"
   ]
  },
  {
   "cell_type": "markdown",
   "id": "1a7581bf",
   "metadata": {},
   "source": [
    "### 4.1.3 Categorical Variables"
   ]
  },
  {
   "cell_type": "code",
   "execution_count": null,
   "id": "2bbb7474",
   "metadata": {},
   "outputs": [],
   "source": [
    "df4['state_holiday'].drop_duplicates()"
   ]
  },
  {
   "cell_type": "code",
   "execution_count": null,
   "id": "d4e31f31",
   "metadata": {},
   "outputs": [],
   "source": [
    "plt.figure(figsize=(15,10))\n",
    "\n",
    "\n",
    "# state_holiday\n",
    "plt.subplot(3, 2, 1)\n",
    "a = df4[df4['state_holiday'] != 'regular_day']\n",
    "sns.countplot( x = a['state_holiday'])\n",
    "\n",
    "plt.subplot(3, 2, 2)\n",
    "sns.kdeplot( x = df4[df4['state_holiday'] == 'public_holiday']['sales'], label='public_holiday', fill=True)\n",
    "sns.kdeplot( x = df4[df4['state_holiday'] == 'easter_holiday']['sales'], label='easter_holiday', fill=True )\n",
    "sns.kdeplot( x = df4[df4['state_holiday'] == 'christmas']['sales'], label='christmas', fill=True )\n",
    "\n",
    "\n",
    "\n",
    "# store_type\n",
    "plt.subplot( 3, 2, 3 )\n",
    "sns.countplot( x = df4['store_type'] )\n",
    "\n",
    "plt.subplot( 3, 2, 4 )\n",
    "sns.kdeplot( df4[df4['store_type'] == 'a']['sales'], label='a', fill=True )\n",
    "sns.kdeplot( df4[df4['store_type'] == 'b']['sales'], label='b', fill=True )\n",
    "sns.kdeplot( df4[df4['store_type'] == 'c']['sales'], label='c', fill=True )\n",
    "sns.kdeplot( df4[df4['store_type'] == 'd']['sales'], label='d', fill=True )\n",
    "\n",
    "\n",
    "\n",
    "# assortment\n",
    "plt.subplot( 3, 2, 5 )\n",
    "sns.countplot( x = df4['assortment'] )\n",
    "\n",
    "plt.subplot( 3, 2, 6 )\n",
    "sns.kdeplot( df4[df4['assortment'] == 'extended']['sales'], label='extended', fill=True )\n",
    "sns.kdeplot( df4[df4['assortment'] == 'basic']['sales'], label='basic', fill=True )\n",
    "sns.kdeplot( df4[df4['assortment'] == 'extra']['sales'], label='extra', fill=True )"
   ]
  },
  {
   "cell_type": "markdown",
   "id": "c93519d5",
   "metadata": {},
   "source": [
    "## 4.2. Analise Bivariada"
   ]
  },
  {
   "cell_type": "markdown",
   "id": "54138b85",
   "metadata": {},
   "source": [
    "Aqui foi verificado se as hipoteses criadas anteriormente são verdadeiras ou falsas."
   ]
  },
  {
   "cell_type": "markdown",
   "id": "a61d1664",
   "metadata": {},
   "source": [
    "### H1. Lojas com maior sortimentos deveriam vender mais.\n",
    "\n",
    "**FALSA** Lojas com MAIOR SORTIMENTO vendem MENOS."
   ]
  },
  {
   "cell_type": "code",
   "execution_count": null,
   "id": "17510b0e",
   "metadata": {},
   "outputs": [],
   "source": [
    "aux1 = df4[['assortment', 'sales']].groupby( 'assortment' ).sum().reset_index()\n",
    "sns.barplot( x='assortment', y='sales', data=aux1 );\n",
    "\n",
    "aux2 = df4[['year_week', 'assortment', 'sales']].groupby( ['year_week','assortment'] ).sum().reset_index()\n",
    "aux2.pivot( index='year_week', columns='assortment', values='sales' ).plot()\n",
    "\n",
    "aux3 = aux2[aux2['assortment'] == 'extra']\n",
    "aux3.pivot( index='year_week', columns='assortment', values='sales' ).plot()"
   ]
  },
  {
   "cell_type": "markdown",
   "id": "6bc97e1b",
   "metadata": {},
   "source": [
    "### H2. Lojas com competidores mais próximos deveriam vender menos.\n",
    "\n",
    "**FALSA** Lojas com COMPETIDORES MAIS PROXIMOS vendem MAIS."
   ]
  },
  {
   "cell_type": "code",
   "execution_count": null,
   "id": "2ff15e6b",
   "metadata": {},
   "outputs": [],
   "source": [
    "aux1 = df4[['competition_distance', 'sales']].groupby( 'competition_distance' ).sum().reset_index()\n",
    "\n",
    "bins = list (np.arange(0, 20000, 1000))\n",
    "\n",
    "\n",
    "fig = plt.subplots(figsize=(21,14));\n",
    "plt.subplot(2,2,1);\n",
    "sns.scatterplot(x='competition_distance', y='sales', data=aux1);\n",
    "plt.grid(True)\n",
    "plt.title('(a) distância até o competidor mais próximo  X vendas');\n",
    "\n",
    "plt.subplot(2,2,2);\n",
    "sns.heatmap(aux1.corr(method='pearson'), annot=True);\n",
    "aux1['competition_distance_binned'] = pd.cut(aux1['competition_distance'], bins = bins)  # o cut coloca em qual grupo o valor pertence\n",
    "aux2 = aux1[['competition_distance_binned','sales']].groupby('competition_distance_binned').sum().reset_index()\n",
    "plt.title('(b) Correlação entre as variáveis');\n",
    "\n",
    "\n",
    "plt.subplot(2,2,(3,4));\n",
    "sns.barplot(x='competition_distance_binned', y='sales', data=aux2);\n",
    "plt.xticks(rotation=-45);\n",
    "plt.title('(c) Vendas por faixa de distância');\n",
    "\n",
    "\n"
   ]
  },
  {
   "cell_type": "markdown",
   "id": "76122434",
   "metadata": {},
   "source": [
    "### H3. Lojas com competidores à mais tempo deveriam vendem mais.\n",
    "**FALSE** Lojas com COMPETIDORES À MAIS TEMPO vendem MENOS."
   ]
  },
  {
   "cell_type": "code",
   "execution_count": null,
   "id": "c2ad7243",
   "metadata": {},
   "outputs": [],
   "source": [
    "plt.subplots(2,2,figsize=(21,14))\n",
    "\n",
    "aux1 = df4[['competition_time_month','sales']].groupby('competition_time_month').sum().reset_index()\n",
    "aux2 = aux1[aux1['competition_time_month']<120]\n",
    "aux2 = aux2[aux2['competition_time_month'] != 0]\n",
    "\n",
    "\n",
    "plt.subplot(2,2,1)\n",
    "sns.regplot(x='competition_time_month', y='sales', data=aux2);\n",
    "\n",
    "plt.subplot(2,2,2)\n",
    "sns.heatmap(aux1.corr(method='pearson'), annot=True);\n",
    "\n",
    "plt.subplot(2,2,(3,4))\n",
    "sns.barplot(x='competition_time_month', y='sales', data=aux2);\n",
    "plt.xticks(rotation=-45);"
   ]
  },
  {
   "cell_type": "markdown",
   "id": "65dd3e28",
   "metadata": {},
   "source": [
    "### H4. Lojas com promoções ativas por mais tempo deveriam vender mais.\n",
    "**FALSA** Lojas com promocoes ativas por mais tempo vendem menos, depois de um certo periodo\n",
    "de promocao"
   ]
  },
  {
   "cell_type": "code",
   "execution_count": null,
   "id": "8fceec1c",
   "metadata": {},
   "outputs": [],
   "source": [
    "aux1 = df4[['promo_time_week', 'sales']].groupby( 'promo_time_week').sum().reset_index()\n",
    "\n",
    "\n",
    "#grid = GridSpec( 2, 3 )\n",
    "\n",
    "fig = plt.figure(figsize=(16, 8))\n",
    "grid = fig.add_gridspec( 2, 3 )\n",
    "\n",
    "plt.subplot( grid[0,0] )\n",
    "aux2 = aux1[aux1['promo_time_week'] > 0] # promo extendido\n",
    "\n",
    "sns.barplot( x='promo_time_week', y='sales', data=aux2 );\n",
    "plt.xticks( rotation=90 );\n",
    "\n",
    "plt.subplot( grid[0,1] )\n",
    "sns.regplot( x='promo_time_week', y='sales', data=aux2 );\n",
    "\n",
    "plt.subplot( grid[1,0] )\n",
    "aux3 = aux1[aux1['promo_time_week'] < 0] # promo regular\n",
    "sns.barplot( x='promo_time_week', y='sales', data=aux3 );\n",
    "plt.xticks( rotation=90 );\n",
    "\n",
    "plt.subplot( grid[1,1] )\n",
    "sns.regplot( x='promo_time_week', y='sales', data=aux3 );\n",
    "\n",
    "plt.subplot( grid[:,2] )\n",
    "sns.heatmap( aux1.corr( method='pearson' ), annot=True );"
   ]
  },
  {
   "cell_type": "markdown",
   "id": "66443e70",
   "metadata": {},
   "source": [
    "### <s> H5. Lojas com mais dias de promoção deveriam vender mais. <s/>\n"
   ]
  },
  {
   "cell_type": "markdown",
   "id": "74d2ac65",
   "metadata": {},
   "source": [
    "### H7. Lojas com mais promoções consecutivas deveriam vender mais.\n",
    "**FALSA** Lojas com mais promocoes consecutivas vendem menos"
   ]
  },
  {
   "cell_type": "code",
   "execution_count": null,
   "id": "19623c5c",
   "metadata": {},
   "outputs": [],
   "source": [
    "df4[['promo', 'promo2', 'sales']].groupby( ['promo', 'promo2'] ).sum().reset_index()"
   ]
  },
  {
   "cell_type": "code",
   "execution_count": null,
   "id": "82593145",
   "metadata": {},
   "outputs": [],
   "source": [
    "aux1 = df4[( df4['promo'] == 1 ) & ( df4['promo2'] == 1 )][['year_week', 'sales']].groupby( 'year_week' ).sum().reset_index()\n",
    "ax = aux1.plot()\n",
    "\n",
    "aux2 = df4[( df4['promo'] == 1 ) & ( df4['promo2'] == 0 )][['year_week', 'sales']].groupby( 'year_week' ).sum().reset_index()\n",
    "aux2.plot( ax=ax )\n",
    "\n",
    "ax.legend( labels=['Tradicional & Extendida', 'Extendida']);"
   ]
  },
  {
   "cell_type": "markdown",
   "id": "276d6329",
   "metadata": {},
   "source": [
    "### H8. Lojas abertas durante o feriado de Natal deveriam vender mais.\n",
    "**FALSA** Lojas abertas durante o feriado do Natal vendem menos."
   ]
  },
  {
   "cell_type": "code",
   "execution_count": null,
   "id": "a609e999",
   "metadata": {},
   "outputs": [],
   "source": [
    "aux = df4[df4['state_holiday'] != 'regular_day']\n",
    "\n",
    "fig = plt.figure(figsize = (16, 6))\n",
    "plt.subplot( 1, 2, 1 )\n",
    "aux1 = aux[['state_holiday', 'sales']].groupby( 'state_holiday' ).sum().reset_index()\n",
    "sns.barplot( x='state_holiday', y='sales', data=aux1 );\n",
    "\n",
    "plt.subplot( 1, 2, 2 )\n",
    "aux2 = aux[['year', 'state_holiday', 'sales']].groupby( ['year', 'state_holiday'] ).sum().reset_index()\n",
    "sns.barplot( x='year', y='sales', hue='state_holiday', data=aux2 );"
   ]
  },
  {
   "cell_type": "markdown",
   "id": "13e6ebb5",
   "metadata": {},
   "source": [
    "### H9. Lojas deveriam vender mais ao longo dos anos.\n",
    "**FALSA** Lojas vendem menos ao longo dos anos"
   ]
  },
  {
   "cell_type": "code",
   "execution_count": null,
   "id": "c72ad366",
   "metadata": {},
   "outputs": [],
   "source": [
    "aux1 = df4[['year', 'sales']].groupby( 'year' ).sum().reset_index()\n",
    "\n",
    "fig = plt.figure(figsize=(16, 6))\n",
    "\n",
    "plt.subplot( 1, 3, 1 )\n",
    "sns.barplot( x='year', y='sales', data=aux1 );\n",
    "\n",
    "plt.subplot( 1, 3, 2 )\n",
    "sns.regplot( x='year', y='sales', data=aux1 );\n",
    "\n",
    "plt.subplot( 1, 3, 3 )\n",
    "sns.heatmap( aux1.corr( method='pearson' ), annot=True );"
   ]
  },
  {
   "cell_type": "markdown",
   "id": "efd21a06",
   "metadata": {},
   "source": [
    "### H10. Lojas deveriam vender mais no segundo semestre do ano.\n",
    "**FALSA** Lojas vendem menos no segundo semestre do ano"
   ]
  },
  {
   "cell_type": "code",
   "execution_count": null,
   "id": "79ef5c0e",
   "metadata": {},
   "outputs": [],
   "source": [
    "aux1 = df4[['month', 'sales']].groupby( 'month' ).sum().reset_index()\n",
    "\n",
    "fig = plt.figure(figsize=(16, 6))\n",
    "\n",
    "plt.subplot( 1, 3, 1 )\n",
    "sns.barplot( x='month', y='sales', data=aux1 );\n",
    "\n",
    "plt.subplot( 1, 3, 2 )\n",
    "sns.regplot( x='month', y='sales', data=aux1 );\n",
    "\n",
    "plt.subplot( 1, 3, 3 )\n",
    "sns.heatmap( aux1.corr( method='pearson' ), annot=True );"
   ]
  },
  {
   "cell_type": "markdown",
   "id": "88907a19",
   "metadata": {},
   "source": [
    "### H11. Lojas deveriam vender mais depois do dia 10 de cada mês.\n",
    "**VERDADEIRA** Lojas vendem mais depois do dia 10 de cada mes."
   ]
  },
  {
   "cell_type": "code",
   "execution_count": null,
   "id": "958b0cff",
   "metadata": {},
   "outputs": [],
   "source": [
    "aux1 = df4[['day', 'sales']].groupby( 'day' ).sum().reset_index()\n",
    "\n",
    "\n",
    "fig = plt.figure(figsize = (16, 6)) \n",
    "\n",
    "plt.subplot( 2, 2, 1 )\n",
    "sns.barplot( x='day', y='sales', data=aux1 );\n",
    "\n",
    "plt.subplot( 2, 2, 2 )\n",
    "sns.regplot( x='day', y='sales', data=aux1 );\n",
    "\n",
    "plt.subplot( 2, 2, 3 )\n",
    "sns.heatmap( aux1.corr( method='pearson' ), annot=True );\n",
    "aux1['before_after'] = aux1['day'].apply( lambda x: 'before_10_days' if x <= 10 else 'after_10_days' )\n",
    "aux2 =aux1[['before_after', 'sales']].groupby( 'before_after' ).sum().reset_index()\n",
    "\n",
    "plt.subplot( 2, 2, 4 )\n",
    "sns.barplot( x='before_after', y='sales', data=aux2 );"
   ]
  },
  {
   "cell_type": "code",
   "execution_count": null,
   "id": "50a90873",
   "metadata": {},
   "outputs": [],
   "source": [
    "df4.columns"
   ]
  },
  {
   "cell_type": "code",
   "execution_count": null,
   "id": "ca73530c",
   "metadata": {},
   "outputs": [],
   "source": [
    "aux['day'].apply(lambda x: 'before_10_days' if x<=10 else 'after_10_days')"
   ]
  },
  {
   "cell_type": "markdown",
   "id": "29c55f5e",
   "metadata": {},
   "source": [
    "### H12. Lojas deveriam vender menos aos finais de semana.\n",
    "**VERDADEIRA** Lojas vendem menos nos final de semana"
   ]
  },
  {
   "cell_type": "code",
   "execution_count": null,
   "id": "2eb2bcb4",
   "metadata": {},
   "outputs": [],
   "source": [
    "aux1 = df4[['day_of_week','sales']].groupby('day_of_week').sum().reset_index()\n",
    "\n",
    "fig=plt.subplots(1,3,figsize=(21,5))\n",
    "\n",
    "plt.subplot(1,3,1)\n",
    "sns.barplot(x='day_of_week', y='sales', data = aux1);\n",
    "plt.title('(a) Vendas por dia na semana');\n",
    "\n",
    "plt.subplot(1,3,2)\n",
    "sns.regplot(x='day_of_week', y='sales', data = aux1);\n",
    "plt.title('(b) Ajuste linear entre as variáveis');\n",
    "\n",
    "plt.subplot(1,3,3)\n",
    "sns.heatmap(aux1.corr(method='pearson'), annot=True);\n",
    "plt.title('(c) Correlação entre as variáveis');"
   ]
  },
  {
   "cell_type": "markdown",
   "id": "9acd8fce",
   "metadata": {},
   "source": [
    "### H13. Lojas deveriam vender menos durante os feriados escolares.\n",
    "**VERDADEIRA** Lojas vendem menos durante os feriadso escolares, exceto nos meses de Julho e\n",
    "Agosto."
   ]
  },
  {
   "cell_type": "code",
   "execution_count": null,
   "id": "3e7b90ab",
   "metadata": {},
   "outputs": [],
   "source": [
    "fig = plt.figure(figsize = (14, 8)) \n",
    "\n",
    "aux1 = df4[['school_holiday', 'sales']].groupby( 'school_holiday' ).sum().reset_index()\n",
    "plt.subplot( 2, 1, 1 )\n",
    "sns.barplot( x='school_holiday', y='sales', data=aux1 );\n",
    "\n",
    "\n",
    "aux2 = df4[['month', 'school_holiday', 'sales']].groupby(['month','school_holiday'] ).sum().reset_index()\n",
    "plt.subplot( 2, 1, 2 )\n",
    "sns.barplot( x='month', y='sales', hue='school_holiday', data=aux2 );"
   ]
  },
  {
   "cell_type": "markdown",
   "id": "532992aa",
   "metadata": {},
   "source": [
    "4.2.1. Resumo das Hipoteses"
   ]
  },
  {
   "cell_type": "code",
   "execution_count": null,
   "id": "f259fdf8",
   "metadata": {},
   "outputs": [],
   "source": [
    "tab =[['Hipoteses', 'Conclusao', 'Relevancia'],\n",
    "\n",
    "['H1', 'Falsa', 'Baixa'],\n",
    "['H2', 'Falsa', 'Media'],\n",
    "['H3', 'Falsa', 'Media'],\n",
    "['H4', 'Falsa', 'Baixa'],\n",
    "['H5', '-', '-'],\n",
    "['H7', 'Falsa', 'Baixa'],\n",
    "['H8', 'Falsa', 'Media'],\n",
    "['H9', 'Falsa', 'Alta'],\n",
    "['H10', 'Falsa', 'Alta'],\n",
    "['H11', 'Verdadeira', 'Alta'],\n",
    "['H12', 'Verdadeira', 'Alta'],\n",
    "['H13', 'Verdadeira', 'Baixa'],\n",
    "]\n",
    "print( tabulate( tab, headers='firstrow' ) )"
   ]
  },
  {
   "cell_type": "markdown",
   "id": "9da2247b",
   "metadata": {},
   "source": [
    "## 4.3. Analise Multivariada"
   ]
  },
  {
   "cell_type": "markdown",
   "id": "2c3f8a7d",
   "metadata": {},
   "source": [
    "### 4.3.1. Numerical Attributes"
   ]
  },
  {
   "cell_type": "code",
   "execution_count": null,
   "id": "95e8b3fd",
   "metadata": {},
   "outputs": [],
   "source": [
    "correlation = num_attributes.corr( method='pearson' )\n",
    "\n",
    "fig = plt.figure(figsize = (14, 6)) \n",
    "sns.heatmap( correlation, annot=True );"
   ]
  },
  {
   "cell_type": "markdown",
   "id": "281a19cd",
   "metadata": {},
   "source": [
    "### 4.3.2. Categorical Attributes\n",
    "\n",
    "Para ver a correlação entre as variaveis categoricas vamos usar o [Cramér's V](https://en.wikipedia.org/wiki/Cram%C3%A9r%27s_V)"
   ]
  },
  {
   "cell_type": "code",
   "execution_count": null,
   "id": "1c244d2f",
   "metadata": {},
   "outputs": [],
   "source": [
    "# only categorical data\n",
    "a = df4.select_dtypes( include='object' )\n",
    "\n",
    "# Calculate cramer V\n",
    "a1 = cramer_v( a['state_holiday'], a['state_holiday'] )\n",
    "a2 = cramer_v( a['state_holiday'], a['store_type'] )\n",
    "a3 = cramer_v( a['state_holiday'], a['assortment'] )\n",
    "a4 = cramer_v( a['store_type'], a['state_holiday'] )\n",
    "a5 = cramer_v( a['store_type'], a['store_type'] )\n",
    "a6 = cramer_v( a['store_type'], a['assortment'] )\n",
    "a7 = cramer_v( a['assortment'], a['state_holiday'] )\n",
    "a8 = cramer_v( a['assortment'], a['store_type'] )\n",
    "a9 = cramer_v( a['assortment'], a['assortment'] )\n",
    "\n",
    "# Final dataset\n",
    "d = pd.DataFrame( {'state_holiday': [a1, a2, a3],\n",
    "                'store_type': [a4, a5, a6],\n",
    "                'assortment': [a7, a8, a9] })\n",
    "d = d.set_index( d.columns )\n",
    "\n",
    "fig = plt.figure(figsize = (14, 6)) \n",
    "sns.heatmap( d, annot=True )"
   ]
  },
  {
   "cell_type": "markdown",
   "id": "be12bd10",
   "metadata": {},
   "source": [
    "# 5.0 DATA PREPARATION\n"
   ]
  },
  {
   "cell_type": "markdown",
   "id": "df337bc1",
   "metadata": {},
   "source": [
    "Nessa etapa preparamos os dados. Para isso fazemos algumas transformações, como transformar as variaveis categóricas em númericas, transformar as variaveis númericas de tempo em variaveis ciclica ..."
   ]
  },
  {
   "cell_type": "code",
   "execution_count": null,
   "id": "e7470ed8",
   "metadata": {},
   "outputs": [],
   "source": [
    "df5 = df4.copy()"
   ]
  },
  {
   "cell_type": "markdown",
   "id": "cc4f6f86",
   "metadata": {},
   "source": [
    "## 5.1. Normalizacao"
   ]
  },
  {
   "cell_type": "markdown",
   "id": "d4b73d89",
   "metadata": {},
   "source": [
    "##### Nenhuma variavel com distribuição normal\n",
    "\n",
    "A normalização funciona bem variaveis que possuem distribuição normal. Como visto na análise univariavel nenhuma variavel possue esse tipo de distribuição, portanto não vamos usar Normalização.\n"
   ]
  },
  {
   "cell_type": "markdown",
   "id": "b124ba85",
   "metadata": {},
   "source": [
    "## 5.2. Rescaling"
   ]
  },
  {
   "cell_type": "markdown",
   "id": "8afa3210",
   "metadata": {},
   "source": [
    "Como não temos nenhuma variavel categórica, o método de reescaling foi aplicado. MinMaxScaler foi utilizado para colunas que não apresentam Outliers, enquanto que o RobustScaler foi aplicado quando existe outliers.\n"
   ]
  },
  {
   "cell_type": "code",
   "execution_count": null,
   "id": "916e3a17",
   "metadata": {},
   "outputs": [],
   "source": [
    "rs = RobustScaler()   # Usar quando os outliers são bem fortes\n",
    "mms = MinMaxScaler()  # Usar quando os outliers não são tão relevantes\n",
    "\n",
    "# competition distance\n",
    "df5['competition_distance'] = rs.fit_transform( df5[['competition_distance']].values )\n",
    "pickle.dump(rs, open(os.path.join(PARA_DIR,'competition_distance_scaler.pkl'), 'wb'))\n",
    "\n",
    "# competition time month\n",
    "df5['competition_time_month'] = rs.fit_transform(df5[['competition_time_month']].values )\n",
    "pickle.dump(rs, open(os.path.join(PARA_DIR,'competition_time_month_scaler.pkl'), 'wb'))\n",
    "\n",
    "# promo time week\n",
    "df5['promo_time_week'] = mms.fit_transform( df5[['promo_time_week']].values )\n",
    "pickle.dump(mms, open(os.path.join(PARA_DIR,'promo_time_week_scaler.pkl'), 'wb'))\n",
    "\n",
    "# year\n",
    "df5['year'] = mms.fit_transform( df5[['year']].values )\n",
    "pickle.dump(mms, open(os.path.join(PARA_DIR,'year_scaler.pkl'), 'wb'))\n"
   ]
  },
  {
   "cell_type": "code",
   "execution_count": null,
   "id": "922e98c3",
   "metadata": {},
   "outputs": [],
   "source": [
    "df5.head(4)"
   ]
  },
  {
   "cell_type": "markdown",
   "id": "ec3d84c4",
   "metadata": {},
   "source": [
    "## 5.3 Transformação"
   ]
  },
  {
   "cell_type": "markdown",
   "id": "a8fc114b",
   "metadata": {},
   "source": [
    "### 5.3.1. Encoding"
   ]
  },
  {
   "cell_type": "markdown",
   "id": "fa568987",
   "metadata": {},
   "source": [
    "Nas variaveis categoricas foi aplicado técnicas de transformação (onehotencoding, label encoding e ordinal encoding)."
   ]
  },
  {
   "cell_type": "code",
   "execution_count": null,
   "id": "756873f1",
   "metadata": {},
   "outputs": [],
   "source": [
    "# state_holiday - One Hot Encoding\n",
    "df5 = pd.get_dummies( df5, prefix=['state_holiday'], columns=['state_holiday'] )\n",
    "\n",
    "# store_type - Label Encoding\n",
    "le = LabelEncoder()\n",
    "df5['store_type'] = le.fit_transform( df5['store_type'] )\n",
    "pickle.dump(le, open(os.path.join(PARA_DIR,'store_type_scaler.pkl'), 'wb'))\n",
    "\n",
    "\n",
    "# assortment - Ordinal Encoding\n",
    "assortment_dict = {'basic': 1, 'extra': 2, 'extended': 3}\n",
    "df5['assortment'] = df5['assortment'].map( assortment_dict )"
   ]
  },
  {
   "cell_type": "code",
   "execution_count": null,
   "id": "7cdf109f",
   "metadata": {},
   "outputs": [],
   "source": [
    "df5.head(4)"
   ]
  },
  {
   "cell_type": "markdown",
   "id": "522dba85",
   "metadata": {},
   "source": [
    "### 5.3.2. Response Variable Transformation"
   ]
  },
  {
   "cell_type": "markdown",
   "id": "ba8ec7a2",
   "metadata": {},
   "source": [
    "A ideia é trazer a distribuição da variavel resposta o mais próximo de uma distribuição normal, para isso vamos aplicar a transformação logaritma.\n"
   ]
  },
  {
   "cell_type": "code",
   "execution_count": null,
   "id": "f7638417",
   "metadata": {},
   "outputs": [],
   "source": [
    "df5['sales'] = np.log1p( df5['sales'] )"
   ]
  },
  {
   "cell_type": "markdown",
   "id": "f178ee74",
   "metadata": {},
   "source": [
    "### 5.3.3. Nature Transformation"
   ]
  },
  {
   "cell_type": "markdown",
   "id": "4f7973cc",
   "metadata": {},
   "source": [
    "Para variaveis de natureza ciclicas (ano, meses, semanas e dias) foi utilizado uma técnica de reescreve-las em seno e cosseno."
   ]
  },
  {
   "cell_type": "code",
   "execution_count": null,
   "id": "21c9ab4b",
   "metadata": {},
   "outputs": [],
   "source": [
    "# day of week\n",
    "df5['day_of_week_sin'] = df5['day_of_week'].apply( lambda x: np.sin( x * ( 2. *np.pi/7 ) ) )\n",
    "df5['day_of_week_cos'] = df5['day_of_week'].apply( lambda x: np.cos( x * ( 2. *np.pi/7 ) ) )\n",
    "\n",
    "# month\n",
    "df5['month_sin'] = df5['month'].apply( lambda x: np.sin( x * ( 2. * np.pi/12 )) )\n",
    "df5['month_cos'] = df5['month'].apply( lambda x: np.cos( x * ( 2. * np.pi/12 )) )\n",
    "\n",
    "# day\n",
    "df5['day_sin'] = df5['day'].apply( lambda x: np.sin( x * ( 2. * np.pi/30 ) ) )\n",
    "df5['day_cos'] = df5['day'].apply( lambda x: np.cos( x * ( 2. * np.pi/30 ) ) )\n",
    "\n",
    "# week of year\n",
    "df5['week_of_year_sin'] = df5['week_of_year'].apply( lambda x: np.sin( x * ( 2. * np.pi/52 ) ) )\n",
    "df5['week_of_year_cos'] = df5['week_of_year'].apply( lambda x: np.cos( x * ( 2. * np.pi/52 ) ) )"
   ]
  },
  {
   "cell_type": "markdown",
   "id": "927e948d",
   "metadata": {},
   "source": [
    "# 6.0 FEATURE SELECTION"
   ]
  },
  {
   "cell_type": "markdown",
   "id": "e4762678",
   "metadata": {},
   "source": [
    "Nessa seção vamos selecionar as varivaveis de interesse para o modelo. Algumas variaveis que foram utilizadas para definir outras (Variaveis Colineares) serão automaticamente descartadas para evitar dependencia linear no modelo. As demais serão escolhidas pelo método do algoritmo Boruta."
   ]
  },
  {
   "cell_type": "code",
   "execution_count": null,
   "id": "543ce19a",
   "metadata": {},
   "outputs": [],
   "source": [
    "df6 = df5.copy()"
   ]
  },
  {
   "cell_type": "markdown",
   "id": "2b3141ce",
   "metadata": {},
   "source": [
    "## 6.1. Split dataframe into training and test dataset"
   ]
  },
  {
   "cell_type": "markdown",
   "id": "dba7a458",
   "metadata": {},
   "source": [
    "Primeiro deletamos as variaveis que não são importantes para o modelo e em seguida separamos os dados em treino e teste para utilizar no algoritmo Boruta. Como o objetivo da previsão de vendas é de 6 semanas separamos o conjunto de treino sem as últimas seis semanas.\n"
   ]
  },
  {
   "cell_type": "code",
   "execution_count": null,
   "id": "e4f004f7",
   "metadata": {},
   "outputs": [],
   "source": [
    "# primeiro deletamos as variaveis que delas originaram outras variaveis \n",
    "cols_drop = ['week_of_year', 'day', 'month', 'day_of_week', 'promo_since', 'competition_since', 'year_week' ]\n",
    "df6 = df6.drop( cols_drop, axis=1 )"
   ]
  },
  {
   "cell_type": "code",
   "execution_count": null,
   "id": "5eb50b18",
   "metadata": {},
   "outputs": [],
   "source": [
    "# Vendo qual é a data das 6 últimas semanas (Pegamos a data final do dataframe e subtraimos 6 semanas)\n",
    "df6[['store', 'date']].groupby('store').max().reset_index()['date'][0] - datetime.timedelta(days=6*7)"
   ]
  },
  {
   "cell_type": "code",
   "execution_count": null,
   "id": "01f511fd",
   "metadata": {},
   "outputs": [],
   "source": [
    "# training dataset\n",
    "X_train = df6[df6['date'] < '2015-06-19']\n",
    "y_train = X_train['sales']\n",
    "\n",
    "# test dataset\n",
    "X_test = df6[df6['date'] >= '2015-06-19']\n",
    "y_test = X_test['sales']\n",
    "\n",
    "\n",
    "print( 'Training Min Date: {}'.format( X_train['date'].min() ) )\n",
    "print( 'Training Max Date: {}'.format( X_train['date'].max() ) )\n",
    "print( '\\nTest Min Date: {}'.format( X_test['date'].min() ) )\n",
    "print( 'Test Max Date: {}'.format( X_test['date'].max() ) )"
   ]
  },
  {
   "cell_type": "markdown",
   "id": "d6a2a970",
   "metadata": {},
   "source": [
    "## 6.2. Boruta as Feature Selector"
   ]
  },
  {
   "cell_type": "markdown",
   "id": "562c8178",
   "metadata": {},
   "source": [
    "A função boruta julga quais variáveis são relevantes para o modelo, de maneira simplificada, ela faz isso verificando como a performance do modelo se comporta ao adicionar uma nova feature.\n",
    "\n",
    "Vamos deixar em comentario, pois é um pouco demorado. Ao final vamos deixar os resultados."
   ]
  },
  {
   "cell_type": "code",
   "execution_count": null,
   "id": "98ec9b7b",
   "metadata": {},
   "outputs": [],
   "source": [
    "## training and test dataset for Boruta\n",
    "#X_train_n = X_train.drop( ['date', 'sales'], axis=1 ).values\n",
    "#y_train_n = y_train.values.ravel()     # ravel() para colocar dentro de um vetor\n",
    "#\n",
    "#\n",
    "## define RandomForestRegressor\n",
    "#rf = RandomForestRegressor( n_jobs=-1 )\n",
    "#\n",
    "#\n",
    "## define Boruta  \n",
    "#boruta = BorutaPy( rf, n_estimators='auto', verbose=2, random_state=42 ).fit(X_train_n, y_train_n )"
   ]
  },
  {
   "cell_type": "markdown",
   "id": "b97f866e",
   "metadata": {},
   "source": [
    "### 6.2.1. Best Features from Boruta"
   ]
  },
  {
   "cell_type": "code",
   "execution_count": null,
   "id": "4f96e41a",
   "metadata": {},
   "outputs": [],
   "source": [
    "#cols_selected = boruta.support_.tolist()\n",
    "#\n",
    "## best features\n",
    "#X_train_fs = X_train.drop( ['date', 'sales'], axis=1 )\n",
    "#cols_selected_boruta = X_train_fs.iloc[:, cols_selected].columns.to_list()\n",
    "#\n",
    "## not selected boruta\n",
    "#cols_not_selected_boruta = list( np.setdiff1d( X_train_fs.columns,cols_selected_boruta ) )"
   ]
  },
  {
   "cell_type": "markdown",
   "id": "d910cdf3",
   "metadata": {},
   "source": [
    "## 6.3. Manual Feature Selection"
   ]
  },
  {
   "cell_type": "markdown",
   "id": "70e02402",
   "metadata": {},
   "source": [
    "Aqui só coloco o resultado, já que o boruta demora muito para rodar, cerca de 4 hrs."
   ]
  },
  {
   "cell_type": "code",
   "execution_count": null,
   "id": "921d816b",
   "metadata": {},
   "outputs": [],
   "source": [
    "cols_selected_boruta = [\n",
    "\n",
    "'store',\n",
    "'promo',\n",
    "'store_type',\n",
    "'assortment',\n",
    "'competition_distance',\n",
    "'competition_open_since_month',\n",
    "'competition_open_since_year',\n",
    "'promo2',\n",
    "'promo2_since_week',\n",
    "'promo2_since_year',\n",
    "'competition_time_month',\n",
    "'promo_time_week',\n",
    "'day_of_week_sin',\n",
    "'day_of_week_cos',\n",
    "'month_sin',            # adicionado \n",
    "'month_cos',\n",
    "'day_sin',\n",
    "'day_cos',\n",
    "'week_of_year_sin',     # adicionado\n",
    "'week_of_year_cos']\n",
    "\n",
    "# columns to add\n",
    "feat_to_add = ['date', 'sales']\n",
    "\n",
    "# final features\n",
    "cols_selected_boruta_full = cols_selected_boruta.copy()\n",
    "cols_selected_boruta_full.extend( feat_to_add )"
   ]
  },
  {
   "cell_type": "code",
   "execution_count": null,
   "id": "7ab2399e",
   "metadata": {},
   "outputs": [],
   "source": [
    "cols_selected_boruta_full"
   ]
  },
  {
   "cell_type": "markdown",
   "id": "2b716d0e",
   "metadata": {},
   "source": [
    "# 7.0 MACHINE LEARNING MODELLING"
   ]
  },
  {
   "cell_type": "markdown",
   "id": "e40dec20",
   "metadata": {},
   "source": [
    "Com os dados tratados e com as features selecionadas podemos iniciar o processo de ML. Vamos implementar 5 algoritmos de machine learning. Utilizamos a técnica de **Cross Validation** (é um método de reamostragem que usa diferentes partes dos dados para testar e treinar um modelo em diferentes iterações) para comparar os modelos com sua performace real, e com isso escolhemos um dos modelos para seguirmos para próxima etapa."
   ]
  },
  {
   "cell_type": "code",
   "execution_count": null,
   "id": "5c3eca8e",
   "metadata": {},
   "outputs": [],
   "source": [
    "x_train = X_train[ cols_selected_boruta ]\n",
    "x_test = X_test[ cols_selected_boruta ]\n",
    "\n",
    "# Time Series Data Preparation\n",
    "x_training = X_train[ cols_selected_boruta_full ]"
   ]
  },
  {
   "cell_type": "markdown",
   "id": "bfbc5322",
   "metadata": {},
   "source": [
    "## 7.1. Average Model"
   ]
  },
  {
   "cell_type": "markdown",
   "id": "f1f38e55",
   "metadata": {},
   "source": [
    "Começamos com o modelo de média, é um dos modelos mais simples, a predição é baseada apenas na média de vendas das loja. Embora simples ele é útil para podermos comparar a performance dos modelos a serem testados em seguida.\n",
    "\n",
    "obs: Lembrando que as vendas foram treinadas usando o log de cada valor da venda, agora para analisar a performace do modelo precisamos voltar para os valores originais, para isso basta aplicarmos a exponencial. Para isso vamos usar o método np.expm1()."
   ]
  },
  {
   "cell_type": "code",
   "execution_count": null,
   "id": "7b863be3",
   "metadata": {},
   "outputs": [],
   "source": [
    "aux1 = x_test.copy()\n",
    "aux1['sales'] = y_test.copy()\n",
    "\n",
    "# prediction\n",
    "aux2 = aux1[['store', 'sales']].groupby( 'store' ).mean().reset_index().rename(columns={'sales': 'predictions'} )\n",
    "aux1 = pd.merge( aux1, aux2, how='left', on='store' )\n",
    "yhat_baseline = aux1['predictions']\n",
    "\n",
    "# performance\n",
    "baseline_result = ml_error( 'Average Model', np.expm1( y_test ), np.expm1(yhat_baseline ) )   \n",
    "baseline_result"
   ]
  },
  {
   "cell_type": "markdown",
   "id": "593b74ef",
   "metadata": {},
   "source": [
    "## 7.2. Linear Regression Model"
   ]
  },
  {
   "cell_type": "markdown",
   "id": "5eacdb79",
   "metadata": {},
   "source": [
    "Agora utilizamos o modelo de regressão linear. Vemos nos resultados abaixo que temos uma performance pior que o modelo de média, isso indica que nosso conjunto de dados não segue uma distribuição linear e portanto esses tipos de modelo não são os melhores para tentar descreve-los."
   ]
  },
  {
   "cell_type": "code",
   "execution_count": null,
   "id": "50d9c2c8",
   "metadata": {},
   "outputs": [],
   "source": [
    "# model\n",
    "lr = LinearRegression().fit( x_train, y_train )\n",
    "\n",
    "# prediction\n",
    "yhat_lr = lr.predict( x_test )\n",
    "\n",
    "# performance\n",
    "lr_result = ml_error( 'Linear Regression', np.expm1( y_test ), np.expm1(yhat_lr ) )\n",
    "lr_result"
   ]
  },
  {
   "cell_type": "markdown",
   "id": "8d694630",
   "metadata": {},
   "source": [
    "### 7.2.1. Linear Regression Model - Cross Validation"
   ]
  },
  {
   "cell_type": "markdown",
   "id": "78a3ac64",
   "metadata": {},
   "source": [
    "O método de cross-validation nos mostra que o real desempenho da regressão linear é ainda pior do que parecia, pois temos um maior RMSE."
   ]
  },
  {
   "cell_type": "code",
   "execution_count": null,
   "id": "d139e653",
   "metadata": {},
   "outputs": [],
   "source": [
    "lr_result_cv = cross_validation( x_training, 5, 'Linear Regression', lr, verbose=False )\n",
    "lr_result_cv"
   ]
  },
  {
   "cell_type": "markdown",
   "id": "5ccd4404",
   "metadata": {},
   "source": [
    "## 7.3. Linear Regression Regularized Model - Lasso"
   ]
  },
  {
   "cell_type": "markdown",
   "id": "7aba7d93",
   "metadata": {},
   "source": [
    "Agora aplicamos outro método linear, LASSO, e obtemos mais uma evidência de que métodos lineares não descrevem bem o conjunto de dados que está sendo trabalhado."
   ]
  },
  {
   "cell_type": "code",
   "execution_count": null,
   "id": "c33cec4a",
   "metadata": {},
   "outputs": [],
   "source": [
    "# model\n",
    "lrr = Lasso( alpha=0.001 ).fit( x_train, y_train )    # alpha é o fator multiplicativo de cada um dos pesos, para que eles fiquem dentro de um range.\n",
    "# prediction\n",
    "yhat_lrr = lrr.predict( x_test )\n",
    "\n",
    "# performance\n",
    "lrr_result = ml_error( 'Linear Regression - Lasso', np.expm1( y_test ), np.expm1( yhat_lrr ) )\n",
    "lrr_result"
   ]
  },
  {
   "cell_type": "markdown",
   "id": "fb8282cd",
   "metadata": {},
   "source": [
    "### 7.3.1. Linear Regression Regularized Model (Lasso) - Cross Validation"
   ]
  },
  {
   "cell_type": "markdown",
   "id": "44954bfd",
   "metadata": {},
   "source": [
    "O método de cross-validation nos mostra que o real desempenho do modelo é ainda pior do que parecia, pois temos um maior RMSE."
   ]
  },
  {
   "cell_type": "code",
   "execution_count": null,
   "id": "08ed4e02",
   "metadata": {},
   "outputs": [],
   "source": [
    "lrr_result_cv = cross_validation( x_training, 5, 'Lasso', lrr, verbose=False )\n",
    "lrr_result_cv"
   ]
  },
  {
   "cell_type": "markdown",
   "id": "17d8fcbb",
   "metadata": {},
   "source": [
    "## 7.4 Random Forest Regressor"
   ]
  },
  {
   "cell_type": "markdown",
   "id": "5c539f63",
   "metadata": {},
   "source": [
    "Partimos agora para os métodos não lineares, começando com a random forest regressor. Podemos notar uma performance muito melhor em comparação aos métodos não lineares e a média."
   ]
  },
  {
   "cell_type": "code",
   "execution_count": null,
   "id": "ccd4b386",
   "metadata": {},
   "outputs": [],
   "source": [
    "# model\n",
    "rf = RandomForestRegressor( n_estimators=100, n_jobs=-1, random_state=42 ).fit( x_train, y_train )  \n",
    "\n",
    "# prediction\n",
    "yhat_rf = rf.predict( x_test )\n",
    "\n",
    "# performance\n",
    "rf_result = ml_error( 'Random Forest Regressor', np.expm1( y_test ), np.expm1( yhat_rf ) )\n",
    "rf_result"
   ]
  },
  {
   "cell_type": "markdown",
   "id": "28f31963",
   "metadata": {},
   "source": [
    "### 7.4.1. Random Forest Regressor - Cross Validation"
   ]
  },
  {
   "cell_type": "markdown",
   "id": "a12956c5",
   "metadata": {},
   "source": [
    "Ao aplicar o cross-validation no random forest vemos que seu desempenho diminui, mas se mantém alto, se mostrando uma boa opção para ser utilizado."
   ]
  },
  {
   "cell_type": "code",
   "execution_count": null,
   "id": "8e5a1fce",
   "metadata": {},
   "outputs": [],
   "source": [
    "rf_result_cv = cross_validation( x_training, 5, 'Random Forest Regressor', rf, verbose=True )\n",
    "rf_result_cv"
   ]
  },
  {
   "cell_type": "markdown",
   "id": "205ecb1d",
   "metadata": {},
   "source": [
    "## 7.5 XGBoost Regressor"
   ]
  },
  {
   "cell_type": "markdown",
   "id": "22075c42",
   "metadata": {},
   "source": [
    "O XGBoost também apresenta um bom desempenho."
   ]
  },
  {
   "cell_type": "code",
   "execution_count": null,
   "id": "9ebc42d6",
   "metadata": {},
   "outputs": [],
   "source": [
    "# model\n",
    "# model_xgb = xgb.XGBRegressor( objective='reg:squarederror', \n",
    "#                              n_estimators=100, \n",
    "#                              eta=0.01,\n",
    "#                              max_depth=10,\n",
    "#                              subsample=0.7,\n",
    "#                              colsample_bytree=0.5 ).fit( x_train, y_train )  \n",
    "\n",
    "model_xgb = xgb.XGBRegressor(objective='reg:squarederror').fit(x_train, y_train)\n",
    "\n",
    "\n",
    "# prediction\n",
    "yhat_xgb = model_xgb.predict( x_test )\n",
    "\n",
    "# performance\n",
    "xgb_result = ml_error( 'XGBoost Regressor', np.expm1( y_test ), np.expm1( yhat_xgb ) )\n",
    "xgb_result"
   ]
  },
  {
   "cell_type": "markdown",
   "id": "443d5b7e",
   "metadata": {},
   "source": [
    "### 7.5.1. XGBoost Regressor - Cross Validation"
   ]
  },
  {
   "cell_type": "markdown",
   "id": "8dcf5b2b",
   "metadata": {},
   "source": [
    "O desempenho do XGBoost é confirmado ao aplicar o cross validation, embora não seja tão bom quanto ao random forest regressor ele entrega desempenho próximo e com menos tempo de processamento."
   ]
  },
  {
   "cell_type": "code",
   "execution_count": null,
   "id": "7ff0894f",
   "metadata": {},
   "outputs": [],
   "source": [
    "xgb_result_cv = cross_validation( x_training, 5, 'XGBoost Regressor', model_xgb, verbose=True )\n",
    "xgb_result_cv"
   ]
  },
  {
   "cell_type": "markdown",
   "id": "4df4cc97",
   "metadata": {},
   "source": [
    "## 7.6 Compare Model's Performance"
   ]
  },
  {
   "cell_type": "markdown",
   "id": "70bfe972",
   "metadata": {},
   "source": [
    "A seguir temos as classificações dos algoritmos baseada no RMSE. Vemos que a random forest regressor é a que apresenta um RMSE mais baixo, seguida pelo xgboost, a principio o ideal seria continuar com a 'Random Forest Regressor', porém como já comentado, o 'XGBoost' apresenta um desempenho semelhante com um tempo de processamento bem menor, portanto seguiremos com ele."
   ]
  },
  {
   "cell_type": "markdown",
   "id": "a8ca1e78",
   "metadata": {},
   "source": [
    "### 7.6.1. Single Performance"
   ]
  },
  {
   "cell_type": "code",
   "execution_count": null,
   "id": "15719c00",
   "metadata": {},
   "outputs": [],
   "source": [
    "modelling_result = pd.concat( [baseline_result, lr_result, lrr_result, rf_result, \n",
    "                               xgb_result] )\n",
    "modelling_result.sort_values( 'RMSE' )"
   ]
  },
  {
   "cell_type": "markdown",
   "id": "3a9a5e80",
   "metadata": {},
   "source": [
    "### 7.6.2. Real Performance - Cross Validation"
   ]
  },
  {
   "cell_type": "code",
   "execution_count": null,
   "id": "d9951a96",
   "metadata": {},
   "outputs": [],
   "source": [
    "modelling_result_cv = pd.concat( [lr_result_cv, lrr_result_cv, rf_result_cv, xgb_result_cv] )\n",
    "modelling_result_cv.sort_values('RMSE CV')"
   ]
  },
  {
   "cell_type": "markdown",
   "id": "eb273adf",
   "metadata": {},
   "source": [
    "Aqui o mais correto seria escolher o Random Forest Regressor, já que comparado com os outros modelos possui o menor RMSE. Pórem como forma de aprendizado pessoal vamos seguir com o XGBoost Regressor."
   ]
  },
  {
   "cell_type": "markdown",
   "id": "d0741b67",
   "metadata": {},
   "source": [
    "# 8.0 Hyperparameter Fine Tunning"
   ]
  },
  {
   "cell_type": "markdown",
   "id": "5198756e",
   "metadata": {},
   "source": [
    "Na etapa 7.0 decidimos seguir com o XGBoost Regressor e agora nessa etapa vamos escolher os melhores parametros para o aprendizado do modelo. A técnia utilizada aqui foi a Random Search, onde manualmente alteramos os parametros do modelo escolhido e consideramos aquele que apresenta a melhor performance. Antes de calcular a eficiência dos modelos as váriavéis resposta foram transformadas de volta através da função exponêncial.\n",
    "\n"
   ]
  },
  {
   "cell_type": "markdown",
   "id": "7e457a16",
   "metadata": {},
   "source": [
    "## 8.1 Random Search"
   ]
  },
  {
   "cell_type": "markdown",
   "id": "c5cb4327",
   "metadata": {},
   "source": [
    "Valores aleatórios para os parametros do XGBoost."
   ]
  },
  {
   "cell_type": "code",
   "execution_count": null,
   "id": "6d2e9c74",
   "metadata": {},
   "outputs": [],
   "source": [
    "param = {'n_estimators': [500,1000,2000,3000,3500],\n",
    "        'eta': [0.1,0.01,0.03],\n",
    "        'max_depth': [3,5,9, 12],\n",
    "        'subsample': [0.1,0.5,1],\n",
    "        'colssample_bytree': [0.3,0.7,1],\n",
    "        'min_child_weight': [1,3,8,15]}\n",
    "\n",
    "max_eval = 10"
   ]
  },
  {
   "cell_type": "markdown",
   "id": "ba6516b2",
   "metadata": {},
   "source": [
    "Teste aleatório desses valores. Aleatoriamente fizemos 10 tentavivas e escolhemos a melhor.\n",
    "\n",
    " Deixamos o código em comentario por ser um processo muito demorado.\n"
   ]
  },
  {
   "cell_type": "code",
   "execution_count": null,
   "id": "df51e33c",
   "metadata": {},
   "outputs": [],
   "source": [
    "#final_result = pd.DataFrame()\n",
    "\n",
    "#for i in range (max_eval):\n",
    "    #choose values for parameters remdomly\n",
    "#    hp = {k: random.sample(v,1)[0] for k,v in param.items()}\n",
    "#    print(hp)\n",
    "    \n",
    "    #model\n",
    "#    model_xgb = xgb.XGBRegressor(objective='reg:squarederror',\n",
    "#                                    n_estimators=hp['n_estimators'],\n",
    "#                                    eta=hp['eta'],\n",
    "#                                    max_depth=hp['max_depth'],\n",
    "#                                    subsample=hp['subsample'],\n",
    "#                                    colsample_bytree=hp['colssample_bytree'],\n",
    "#                                    min_child_weight=hp['min_child_weight'])\n",
    "\n",
    "    # performance\n",
    "#    result = cross_validation(x_training, 2, 'XGBoost Regressor', model_xgb, verbose=False)\n",
    "#    final_result = pd.concat([final_result, result])\n",
    "    \n",
    "#final_result"
   ]
  },
  {
   "cell_type": "markdown",
   "id": "c8ff0849",
   "metadata": {},
   "source": [
    "## 8.2 Final Model"
   ]
  },
  {
   "cell_type": "markdown",
   "id": "967452fd",
   "metadata": {},
   "source": [
    "Após realizar vários ajustes de maneira aleatória pegamos os parametros que apresentaram melhor performance e treinamos o modelo final."
   ]
  },
  {
   "cell_type": "code",
   "execution_count": null,
   "id": "55a90d12",
   "metadata": {},
   "outputs": [],
   "source": [
    "param_tuned = {'n_estimators': 500,\n",
    "               'eta': 0.1,\n",
    "               'max_depth': 12,\n",
    "               'subsample': 1,\n",
    "               'colssample_bytree': 1,\n",
    "               'min_child_weight': 1}"
   ]
  },
  {
   "cell_type": "code",
   "execution_count": null,
   "id": "7ff9b561",
   "metadata": {},
   "outputs": [],
   "source": [
    "# model\n",
    "model_xgb_tuned = xgb.XGBRegressor( objective='reg:squarederror',\n",
    "                                   n_estimators=param_tuned['n_estimators'],\n",
    "                                   eta=param_tuned['eta'],\n",
    "                                   max_depth=param_tuned['max_depth'],\n",
    "                                   subsample=param_tuned['subsample'],\n",
    "                                   colsample_bytree=param_tuned['colssample_bytree'],\n",
    "                                   min_child_weight=param_tuned['min_child_weight']).fit(x_train, y_train)\n",
    "# prediciton\n",
    "yhat_xgb_tuned = model_xgb_tuned.predict(x_test)\n",
    "    \n",
    "# performance\n",
    "xgb_result_tuned = ml_error(' XGBoost Regressor', np.expm1(y_test), np.expm1(yhat_xgb_tuned))\n",
    "xgb_result_tuned\n",
    "\n",
    "\n"
   ]
  },
  {
   "cell_type": "code",
   "execution_count": null,
   "id": "dc8536f3",
   "metadata": {},
   "outputs": [],
   "source": [
    "mpe = mean_percentage_error(np.expm1(y_test),np.expm1(yhat_xgb_tuned))\n",
    "\n",
    "mpe"
   ]
  },
  {
   "cell_type": "code",
   "execution_count": null,
   "id": "eda87d85",
   "metadata": {},
   "outputs": [],
   "source": [
    "# Save Trained Model\n",
    "pickle.dump( model_xgb_tuned, open( 'model/model_rossmann.pkl', 'wb' ) )"
   ]
  },
  {
   "cell_type": "markdown",
   "id": "455e94d3",
   "metadata": {},
   "source": [
    "# 9.0 Tradução e interpretação do erro"
   ]
  },
  {
   "cell_type": "markdown",
   "id": "a1f2737e",
   "metadata": {},
   "source": [
    "O objetivo nessa etapa é traduzir a performace do modelo em performace do negocio. (Como o resultado encontrado do modelo vai empactar no negócio?)"
   ]
  },
  {
   "cell_type": "code",
   "execution_count": null,
   "id": "e03f2021",
   "metadata": {},
   "outputs": [],
   "source": [
    "# def open_trained_model():\n",
    "#     return open('Model/store_sales_prediction_model.pkl', 'rb')\n",
    "\n",
    "# with open_trained_model() as f:\n",
    "#     model_xgb_tuned = pickle.load(f) \n",
    "\n",
    "# yhat_xgb_tuned = model_xgb_tuned.predict(x_test)"
   ]
  },
  {
   "cell_type": "code",
   "execution_count": null,
   "id": "ea158f69",
   "metadata": {},
   "outputs": [],
   "source": [
    "df9 = X_test[cols_selected_boruta_full]\n",
    "\n",
    "# rescale\n",
    "df9['sales'] = np.expm1(df9['sales'])\n",
    "df9['predictions'] = np.expm1(yhat_xgb_tuned)"
   ]
  },
  {
   "cell_type": "markdown",
   "id": "a5b50d33",
   "metadata": {},
   "source": [
    "## 9.1 Business Performance"
   ]
  },
  {
   "cell_type": "code",
   "execution_count": null,
   "id": "4c973002",
   "metadata": {},
   "outputs": [],
   "source": [
    "# sum of predictions\n",
    "df91 = df9[['store','predictions']].groupby('store').sum().reset_index()\n",
    "\n",
    "# MAE AND MAPE\n",
    "df9_aux1 = df9[['store','sales','predictions']].groupby('store').apply(lambda x: mean_absolute_error(x['sales'], x['predictions'])).reset_index().rename(columns={0:'MAE'})\n",
    "df9_aux2 = df9[['store','sales','predictions']].groupby('store').apply(lambda x: mean_absolute_percentage_error(x['sales'], x['predictions'])).reset_index().rename(columns={0:'MAPE'})\n",
    "\n",
    "#Merge\n",
    "df9_aux3 = pd.merge(df9_aux1, df9_aux2, how='inner', on='store')\n",
    "df92 = pd.merge(df91, df9_aux3, how='inner', on='store')\n",
    "\n",
    "#Scenarios\n",
    "df92['worst_scenario'] = df92['predictions'] - df92['MAE']\n",
    "df92['best_scenario'] = df92['predictions'] + df92['MAE']\n",
    "\n",
    "#order columns\n",
    "df92 = df92[['store','predictions','worst_scenario','best_scenario','MAE','MAPE']]"
   ]
  },
  {
   "cell_type": "code",
   "execution_count": null,
   "id": "bd86323c",
   "metadata": {},
   "outputs": [],
   "source": [
    "df92.head(5)"
   ]
  },
  {
   "cell_type": "code",
   "execution_count": null,
   "id": "b0a94b6b",
   "metadata": {},
   "outputs": [],
   "source": [
    "# Vendo que existe lojas dificeis de usar um modelo (tem o MAPE muito alto)\n",
    "df92.sort_values('MAPE', ascending=False).head()"
   ]
  },
  {
   "cell_type": "code",
   "execution_count": null,
   "id": "ec699ada",
   "metadata": {},
   "outputs": [],
   "source": [
    "# plot do MAPE das lojas\n",
    "sns.scatterplot(x='store',y='MAPE', data=df92)"
   ]
  },
  {
   "cell_type": "markdown",
   "id": "dd963159",
   "metadata": {},
   "source": [
    "## 9.2 Total Performance"
   ]
  },
  {
   "cell_type": "code",
   "execution_count": null,
   "id": "e7babe88",
   "metadata": {},
   "outputs": [],
   "source": [
    "df93 = df92[['predictions','worst_scenario','best_scenario']].apply(lambda x: np.sum(x), axis=0).reset_index().rename(columns={0:'Values', 'index':'Scenario'})\n",
    "df93['Values'] = df93['Values'].map('R$ {:.2f}'. format)\n",
    "df93\n"
   ]
  },
  {
   "cell_type": "markdown",
   "id": "12cdd45f",
   "metadata": {},
   "source": [
    "## 9.3 Machine Learning Performance"
   ]
  },
  {
   "cell_type": "code",
   "execution_count": null,
   "id": "d282260a",
   "metadata": {},
   "outputs": [],
   "source": [
    "df9['error'] = df9['sales'] - df9['predictions']\n",
    "df9['error_rate'] = df9['predictions']/df9['sales']"
   ]
  },
  {
   "cell_type": "code",
   "execution_count": null,
   "id": "20da80ff",
   "metadata": {},
   "outputs": [],
   "source": [
    "plt.figure(figsize=(20,10))\n",
    "plt.suptitle('Desempenho do modelo', fontsize=20)\n",
    "\n",
    "# Comparando as vendas com as predições\n",
    "plt.subplot(2,2,1)\n",
    "sns.lineplot(x='date',y='sales', data=df9, label='Sales')\n",
    "sns.lineplot(x='date',y='predictions', data=df9, label='Predictions'); plt.title('Vendas reais e valores previstos pelo modelo')\n",
    "\n",
    "# Analisando o comportamento do erro do modelo (O modelo perfeito seria uma linha constante em 1)\n",
    "plt.subplot(2,2,2)\n",
    "sns.lineplot(x='date', y='error_rate', data=df9); plt.title('Taxa de erro (Previsão / Real)')\n",
    "plt.axhline(1, linestyle='--')\n",
    "\n",
    "# Distribuição do erro\n",
    "plt.subplot(2,2,3)\n",
    "sns.distplot(df9['error']); plt.title('Distribuição dos erros absolutos')\n",
    "\n",
    "# Grafico de residuo (as predições com relação ao erro)\n",
    "plt.subplot(2,2,4)\n",
    "sns.scatterplot(x = df9['predictions'], y = df9['error']); plt.title('Valor dos erros em relação aos valores previstos')\n",
    "\n",
    "\n",
    "plt.savefig('model_performance.png')\n",
    "plt.show()\n"
   ]
  },
  {
   "cell_type": "markdown",
   "id": "d2a3d5dd",
   "metadata": {},
   "source": [
    "# 10.0 DEPLOY MODEL TO PRODUTION"
   ]
  },
  {
   "cell_type": "markdown",
   "id": "d7e41b99",
   "metadata": {},
   "source": [
    "Nessa etapa colocamos o modelo em produção para as pessoas usarem o resultado.\n",
    "\n",
    "Para isso seguimos as seguintes etapas:\n",
    "\n",
    "1. Criar uma classe com as limpezas, transformações e encoding, chamada de Rossmann.py\n",
    "\n",
    "2. Criar a API usando o framework Flask, chamada Handler.py\n",
    "\n",
    "3. Criar um Script para testar a API"
   ]
  },
  {
   "cell_type": "markdown",
   "id": "d6717f79",
   "metadata": {},
   "source": [
    "## 10.1 Loading test dataset"
   ]
  },
  {
   "cell_type": "code",
   "execution_count": null,
   "id": "3d2661b6",
   "metadata": {},
   "outputs": [],
   "source": [
    "df10 = pd.read_csv( 'dados/test.csv' )"
   ]
  },
  {
   "cell_type": "code",
   "execution_count": null,
   "id": "72ce8287",
   "metadata": {},
   "outputs": [],
   "source": [
    "# merge test dataset + store\n",
    "df_test = pd.merge( df10, df_store_raw, how='left', on='Store' )\n",
    "\n",
    "# choose store for prediction\n",
    "df_test = df_test[df_test['Store'].isin( [20, 23, 22] )]\n",
    "\n",
    "# remove closed days\n",
    "df_test = df_test[df_test['Open'] != 0]\n",
    "df_test = df_test[~df_test['Open'].isnull()]\n",
    "df_test = df_test.drop( 'Id', axis=1 )"
   ]
  },
  {
   "cell_type": "code",
   "execution_count": null,
   "id": "2b228167",
   "metadata": {},
   "outputs": [],
   "source": [
    "df_test.head()"
   ]
  },
  {
   "cell_type": "markdown",
   "id": "fdc6202f",
   "metadata": {},
   "source": [
    "## 10.2 Establishing connection (local server)"
   ]
  },
  {
   "cell_type": "code",
   "execution_count": null,
   "id": "38742839",
   "metadata": {},
   "outputs": [],
   "source": [
    "# convert Dataframe to json\n",
    "data = json.dumps( df_test.to_dict( orient='records' ) )\n",
    "\n",
    "\n",
    "# API Call\n",
    "url = 'http://192.168.100.120:5000/rossmann/predict'\n",
    "\n",
    "header = {'Content-type': 'application/json' }\n",
    "\n",
    "r = requests.post( url, data=data, headers=header )\n",
    "print( 'Status Code {}'.format( r.status_code ) )"
   ]
  },
  {
   "cell_type": "markdown",
   "id": "8f66843d",
   "metadata": {},
   "source": [
    "## 10.3 Establishing connection (online server)"
   ]
  },
  {
   "cell_type": "code",
   "execution_count": null,
   "id": "8aec83d5",
   "metadata": {},
   "outputs": [],
   "source": [
    "# url = 'https://rossmann-model-test.herokuapp.com/rossmann/predict'\n",
    "# header = {'Content-type': 'application/json' }\n",
    "# data = data\n",
    "# r = requests.post( url, data=data, headers=header )\n",
    "# print( 'Status Code {}'.format( r.status_code ) )"
   ]
  },
  {
   "cell_type": "markdown",
   "id": "273a8e9a",
   "metadata": {},
   "source": [
    "## 11.4 Previsão"
   ]
  },
  {
   "cell_type": "code",
   "execution_count": null,
   "id": "0260193c",
   "metadata": {},
   "outputs": [],
   "source": [
    "d1 = pd.DataFrame(r.json(), columns=r.json()[0].keys())\n",
    "\n",
    "d1.head()"
   ]
  },
  {
   "cell_type": "code",
   "execution_count": null,
   "id": "828b22e6",
   "metadata": {},
   "outputs": [],
   "source": [
    "d2 =d1[['store', 'prediction']].groupby('store').sum().reset_index()\n",
    "\n",
    "for i in range(len(d2)):\n",
    "    print('A loja número {} vai vender ${:,.2f} nas proximas 6 semanas.'. format(d2.loc[i,'store'], d2.loc[i,'prediction']))"
   ]
  },
  {
   "cell_type": "code",
   "execution_count": null,
   "id": "531a4247",
   "metadata": {},
   "outputs": [],
   "source": []
  },
  {
   "cell_type": "code",
   "execution_count": null,
   "id": "5c40bda9",
   "metadata": {},
   "outputs": [],
   "source": []
  },
  {
   "cell_type": "code",
   "execution_count": null,
   "id": "3a52073c",
   "metadata": {},
   "outputs": [],
   "source": []
  },
  {
   "cell_type": "code",
   "execution_count": null,
   "id": "203f142e",
   "metadata": {},
   "outputs": [],
   "source": []
  },
  {
   "cell_type": "code",
   "execution_count": null,
   "id": "6964a3ab",
   "metadata": {},
   "outputs": [],
   "source": []
  },
  {
   "cell_type": "code",
   "execution_count": null,
   "id": "448b6b15",
   "metadata": {},
   "outputs": [],
   "source": []
  },
  {
   "cell_type": "code",
   "execution_count": null,
   "id": "d642d05b",
   "metadata": {},
   "outputs": [],
   "source": []
  },
  {
   "cell_type": "code",
   "execution_count": null,
   "id": "ab425cce",
   "metadata": {},
   "outputs": [],
   "source": []
  },
  {
   "cell_type": "code",
   "execution_count": null,
   "id": "4a348738",
   "metadata": {},
   "outputs": [],
   "source": []
  },
  {
   "cell_type": "code",
   "execution_count": null,
   "id": "461e8364",
   "metadata": {},
   "outputs": [],
   "source": []
  },
  {
   "cell_type": "code",
   "execution_count": null,
   "id": "da688a3e",
   "metadata": {},
   "outputs": [],
   "source": []
  },
  {
   "cell_type": "code",
   "execution_count": null,
   "id": "1e912b71",
   "metadata": {},
   "outputs": [],
   "source": []
  },
  {
   "cell_type": "code",
   "execution_count": null,
   "id": "4c516de8",
   "metadata": {},
   "outputs": [],
   "source": []
  },
  {
   "cell_type": "code",
   "execution_count": null,
   "id": "39de1ad8",
   "metadata": {},
   "outputs": [],
   "source": []
  },
  {
   "cell_type": "code",
   "execution_count": null,
   "id": "f2084b7e",
   "metadata": {},
   "outputs": [],
   "source": []
  }
 ],
 "metadata": {
  "kernelspec": {
   "display_name": "Python 3 (ipykernel)",
   "language": "python",
   "name": "python3"
  },
  "language_info": {
   "codemirror_mode": {
    "name": "ipython",
    "version": 3
   },
   "file_extension": ".py",
   "mimetype": "text/x-python",
   "name": "python",
   "nbconvert_exporter": "python",
   "pygments_lexer": "ipython3",
   "version": "3.11.3"
  }
 },
 "nbformat": 4,
 "nbformat_minor": 5
}
